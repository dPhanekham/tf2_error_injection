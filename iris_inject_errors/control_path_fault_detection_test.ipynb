{
 "cells": [
  {
   "cell_type": "code",
   "execution_count": 135,
   "metadata": {
    "id": "TTBSvHcSLBzc",
    "tags": []
   },
   "outputs": [],
   "source": [
    "import tensorflow as tf\n",
    "import tensorflow_datasets as tfds\n",
    "import matplotlib.pyplot as plt\n",
    "import numpy as np"
   ]
  },
  {
   "cell_type": "markdown",
   "metadata": {
    "id": "c3aH3vP_XLI8"
   },
   "source": [
    "### Load MNIST"
   ]
  },
  {
   "cell_type": "code",
   "execution_count": 85,
   "metadata": {
    "id": "ZUMhCXhFXdHQ",
    "tags": []
   },
   "outputs": [],
   "source": [
    "mnist = tfds.image.MNIST()\n",
    "\n",
    "# Describe the dataset with DatasetInfo\n",
    "assert mnist.info.features['image'].shape == (28, 28, 1)\n",
    "assert mnist.info.features['label'].num_classes == 10\n",
    "assert mnist.info.splits['train'].num_examples == 60000\n",
    "\n",
    "# Download the data, prepare it, and write it to disk\n",
    "mnist.download_and_prepare()\n",
    "\n",
    "mnist_dataset = mnist.as_dataset(batch_size=-1)\n",
    "\n",
    "x_train = mnist_dataset['train']['image']\n",
    "y_train = mnist_dataset['train']['label']\n",
    "x_test  = mnist_dataset['test']['image']\n",
    "y_test  = mnist_dataset['test']['label']\n",
    "\n",
    "x_train = tf.cast(x_train, tf.float32)/255.0\n",
    "x_test = tf.cast(x_test, tf.float32)/255.0"
   ]
  },
  {
   "cell_type": "markdown",
   "metadata": {
    "id": "nTFoji3INMEM"
   },
   "source": [
    "## Create and train the model"
   ]
  },
  {
   "cell_type": "code",
   "execution_count": 88,
   "metadata": {
    "id": "XWqxdmS1NLKA",
    "tags": []
   },
   "outputs": [
    {
     "name": "stdout",
     "output_type": "stream",
     "text": [
      "Epoch 1/20\n",
      "1875/1875 [==============================] - 5s 3ms/step - loss: 0.4135 - sparse_categorical_accuracy: 0.8785 - val_loss: 0.1195 - val_sparse_categorical_accuracy: 0.9635\n",
      "Epoch 2/20\n",
      "1875/1875 [==============================] - 4s 2ms/step - loss: 0.0980 - sparse_categorical_accuracy: 0.9688 - val_loss: 0.0983 - val_sparse_categorical_accuracy: 0.9692\n",
      "Epoch 3/20\n",
      "1875/1875 [==============================] - 5s 2ms/step - loss: 0.0644 - sparse_categorical_accuracy: 0.9786 - val_loss: 0.0829 - val_sparse_categorical_accuracy: 0.9747\n",
      "Epoch 4/20\n",
      "1875/1875 [==============================] - 4s 2ms/step - loss: 0.0466 - sparse_categorical_accuracy: 0.9851 - val_loss: 0.0796 - val_sparse_categorical_accuracy: 0.9758\n",
      "Epoch 5/20\n",
      "1875/1875 [==============================] - 4s 2ms/step - loss: 0.0404 - sparse_categorical_accuracy: 0.9870 - val_loss: 0.0744 - val_sparse_categorical_accuracy: 0.9764\n",
      "Epoch 6/20\n",
      "1875/1875 [==============================] - 4s 2ms/step - loss: 0.0320 - sparse_categorical_accuracy: 0.9895 - val_loss: 0.0765 - val_sparse_categorical_accuracy: 0.9753\n",
      "Epoch 7/20\n",
      "1875/1875 [==============================] - 4s 2ms/step - loss: 0.0251 - sparse_categorical_accuracy: 0.9920 - val_loss: 0.0924 - val_sparse_categorical_accuracy: 0.9762\n",
      "Epoch 8/20\n",
      "1875/1875 [==============================] - 4s 2ms/step - loss: 0.0217 - sparse_categorical_accuracy: 0.9925 - val_loss: 0.0836 - val_sparse_categorical_accuracy: 0.9781\n",
      "Epoch 9/20\n",
      "1875/1875 [==============================] - 4s 2ms/step - loss: 0.0183 - sparse_categorical_accuracy: 0.9941 - val_loss: 0.0921 - val_sparse_categorical_accuracy: 0.9799\n",
      "Epoch 10/20\n",
      "1875/1875 [==============================] - 4s 2ms/step - loss: 0.0136 - sparse_categorical_accuracy: 0.9954 - val_loss: 0.0938 - val_sparse_categorical_accuracy: 0.9791\n",
      "Epoch 11/20\n",
      "1875/1875 [==============================] - 4s 2ms/step - loss: 0.0138 - sparse_categorical_accuracy: 0.9955 - val_loss: 0.1032 - val_sparse_categorical_accuracy: 0.9784\n",
      "Epoch 12/20\n",
      "1875/1875 [==============================] - 4s 2ms/step - loss: 0.0126 - sparse_categorical_accuracy: 0.9958 - val_loss: 0.0898 - val_sparse_categorical_accuracy: 0.9811\n",
      "Epoch 13/20\n",
      "1875/1875 [==============================] - 4s 2ms/step - loss: 0.0114 - sparse_categorical_accuracy: 0.9961 - val_loss: 0.1001 - val_sparse_categorical_accuracy: 0.9783\n",
      "Epoch 14/20\n",
      "1875/1875 [==============================] - 4s 2ms/step - loss: 0.0115 - sparse_categorical_accuracy: 0.9961 - val_loss: 0.1026 - val_sparse_categorical_accuracy: 0.9801\n",
      "Epoch 15/20\n",
      "1875/1875 [==============================] - 4s 2ms/step - loss: 0.0095 - sparse_categorical_accuracy: 0.9967 - val_loss: 0.1036 - val_sparse_categorical_accuracy: 0.9798\n",
      "Epoch 16/20\n",
      "1875/1875 [==============================] - 4s 2ms/step - loss: 0.0128 - sparse_categorical_accuracy: 0.9960 - val_loss: 0.1212 - val_sparse_categorical_accuracy: 0.9780\n",
      "Epoch 17/20\n",
      "1875/1875 [==============================] - 4s 2ms/step - loss: 0.0093 - sparse_categorical_accuracy: 0.9966 - val_loss: 0.1150 - val_sparse_categorical_accuracy: 0.9781\n",
      "Epoch 18/20\n",
      "1875/1875 [==============================] - 4s 2ms/step - loss: 0.0072 - sparse_categorical_accuracy: 0.9976 - val_loss: 0.1175 - val_sparse_categorical_accuracy: 0.9780\n",
      "Epoch 19/20\n",
      "1875/1875 [==============================] - 4s 2ms/step - loss: 0.0090 - sparse_categorical_accuracy: 0.9970 - val_loss: 0.1309 - val_sparse_categorical_accuracy: 0.9772\n",
      "Epoch 20/20\n",
      "1875/1875 [==============================] - 4s 2ms/step - loss: 0.0087 - sparse_categorical_accuracy: 0.9970 - val_loss: 0.1267 - val_sparse_categorical_accuracy: 0.9815\n"
     ]
    }
   ],
   "source": [
    "model = tf.keras.models.Sequential([\n",
    "  tf.keras.layers.Flatten(input_shape=(28, 28)),\n",
    "  tf.keras.layers.Dense(128,activation='relu'),\n",
    "  tf.keras.layers.Dense(128,activation='relu'),\n",
    "  tf.keras.layers.Dense(10)\n",
    "])\n",
    "model.compile(\n",
    "    optimizer=tf.keras.optimizers.Adam(0.001),\n",
    "    loss=tf.keras.losses.SparseCategoricalCrossentropy(from_logits=True),\n",
    "    metrics=[tf.keras.metrics.SparseCategoricalAccuracy()],\n",
    ")\n",
    "\n",
    "train_stats = model.fit(\n",
    "                x = x_train,\n",
    "                y = y_train,\n",
    "                shuffle=True,\n",
    "                epochs=20,\n",
    "                batch_size=128,\n",
    "                validation_data=(x_test, y_test),\n",
    "              )"
   ]
  },
  {
   "cell_type": "code",
   "execution_count": 89,
   "metadata": {},
   "outputs": [
    {
     "data": {
      "image/png": "[encoded data removed]",
      "text/plain": [
       "<Figure size 432x288 with 1 Axes>"
      ]
     },
     "metadata": {
      "needs_background": "light"
     },
     "output_type": "display_data"
    }
   ],
   "source": [
    "plt.plot(train_stats.history['sparse_categorical_accuracy'])\n",
    "plt.plot(train_stats.history['val_sparse_categorical_accuracy'])\n",
    "plt.title('model accuracy')\n",
    "plt.ylabel('accuracy')\n",
    "plt.xlabel('epoch')\n",
    "plt.legend(['train', 'test'], loc='upper left')\n",
    "plt.show()"
   ]
  },
  {
   "cell_type": "code",
   "execution_count": 94,
   "metadata": {},
   "outputs": [],
   "source": [
    "predictions_test = model.predict(x_test)"
   ]
  },
  {
   "cell_type": "code",
   "execution_count": 95,
   "metadata": {},
   "outputs": [
    {
     "data": {
      "text/plain": [
       "(10000, 10)"
      ]
     },
     "execution_count": 95,
     "metadata": {},
     "output_type": "execute_result"
    }
   ],
   "source": [
    "predictions_test.shape"
   ]
  },
  {
   "cell_type": "code",
   "execution_count": 96,
   "metadata": {},
   "outputs": [],
   "source": [
    "predictions_train = model.predict(x_train)"
   ]
  },
  {
   "cell_type": "code",
   "execution_count": 167,
   "metadata": {},
   "outputs": [
    {
     "data": {
      "text/plain": [
       "array([[-3.4611275e+01, -3.4223511e+00, -1.3501972e+01, ...,\n",
       "        -6.4922123e+00, -4.6872311e+00, -6.0117249e+00],\n",
       "       [-2.6383812e+01,  2.2142614e+01, -1.7067194e+01, ...,\n",
       "         5.3267026e+00, -1.0082386e+01, -1.2505128e+01],\n",
       "       [ 2.3907051e+01, -2.1029942e+01, -2.0591605e+00, ...,\n",
       "        -1.6457083e+01, -1.3467860e+01, -6.7613406e+00],\n",
       "       ...,\n",
       "       [-4.5901837e+00, -2.1289085e+01, -2.2071899e+01, ...,\n",
       "        -2.6665602e+01, -1.3398007e+01, -1.6343275e+01],\n",
       "       [-3.7453625e+01,  2.0126869e+01, -1.4763664e+01, ...,\n",
       "        -7.0933766e+00, -5.6623106e+00, -9.6061554e+00],\n",
       "       [-2.9780289e+01, -3.4090279e+01, -2.9815676e+01, ...,\n",
       "        -1.8679586e+01,  8.1498137e+00, -2.1983020e-02]], dtype=float32)"
      ]
     },
     "execution_count": 167,
     "metadata": {},
     "output_type": "execute_result"
    }
   ],
   "source": [
    "predictions_train"
   ]
  },
  {
   "cell_type": "markdown",
   "metadata": {},
   "source": [
    "## Check Model\n",
    "\n",
    "Now that the initial model is trained, we need to train our check model.\n",
    "We need to \n",
    "\n",
    " 1. come up with an initial transformation function for x\n",
    " 2. figure out what shape the check model should be (preferable smaller than initial model)\n",
    " 3. train so x' -> y'"
   ]
  },
  {
   "cell_type": "markdown",
   "metadata": {},
   "source": [
    "#### Model 1: Let's try to simply sum up rows of pixels and learn the output from them."
   ]
  },
  {
   "cell_type": "code",
   "execution_count": 150,
   "metadata": {},
   "outputs": [
    {
     "data": {
      "text/plain": [
       "TensorShape([60000, 28, 28, 1])"
      ]
     },
     "execution_count": 150,
     "metadata": {},
     "output_type": "execute_result"
    }
   ],
   "source": [
    "x_train.shape"
   ]
  },
  {
   "cell_type": "code",
   "execution_count": 155,
   "metadata": {},
   "outputs": [],
   "source": [
    "x_train_check = np.zeros((60000,28,1), dtype=np.float32)\n",
    "x_test_check = np.zeros((10000,28,1), dtype=np.float32)"
   ]
  },
  {
   "cell_type": "code",
   "execution_count": 156,
   "metadata": {},
   "outputs": [],
   "source": [
    "# x_train_numpy = x_train.numpy()"
   ]
  },
  {
   "cell_type": "code",
   "execution_count": 157,
   "metadata": {},
   "outputs": [],
   "source": [
    "for i in range(0,60000):\n",
    "    x_train_check[i] = sum(x_train[i])"
   ]
  },
  {
   "cell_type": "code",
   "execution_count": 158,
   "metadata": {},
   "outputs": [],
   "source": [
    "for i in range(0,10000):\n",
    "    x_test_check[i] = sum(x_test[i])"
   ]
  },
  {
   "cell_type": "code",
   "execution_count": 162,
   "metadata": {},
   "outputs": [
    {
     "data": {
      "text/plain": [
       "(60000, 28, 1)"
      ]
     },
     "execution_count": 162,
     "metadata": {},
     "output_type": "execute_result"
    }
   ],
   "source": [
    "x_train_check.shape"
   ]
  },
  {
   "cell_type": "code",
   "execution_count": 115,
   "metadata": {},
   "outputs": [
    {
     "data": {
      "text/plain": [
       "TensorShape([28, 1])"
      ]
     },
     "execution_count": 115,
     "metadata": {},
     "output_type": "execute_result"
    }
   ],
   "source": [
    "sum(x_train[0]).shape"
   ]
  },
  {
   "cell_type": "code",
   "execution_count": 177,
   "metadata": {},
   "outputs": [],
   "source": [
    "model_check = tf.keras.models.Sequential([\n",
    "  tf.keras.layers.Flatten(input_shape=(28,1)),\n",
    "  tf.keras.layers.Dense(64,activation='relu'),\n",
    "  tf.keras.layers.Dense(10)\n",
    "])\n",
    "model_check.compile(\n",
    "    optimizer=tf.keras.optimizers.Adam(0.001),\n",
    "    loss=tf.keras.losses.SparseCategoricalCrossentropy(from_logits=True),\n",
    "    metrics=[tf.keras.metrics.SparseCategoricalAccuracy()],\n",
    ")\n",
    "\n",
    "train_stats = model_check.fit(\n",
    "                x = x_train_check,\n",
    "                y = y_train,\n",
    "                shuffle=True,\n",
    "                epochs=100,\n",
    "                batch_size=128,\n",
    "                validation_data=(x_test_check, y_test),\n",
    "                verbose=0\n",
    "              )"
   ]
  },
  {
   "cell_type": "code",
   "execution_count": 178,
   "metadata": {},
   "outputs": [
    {
     "data": {
      "image/png": "[encoded data removed]",
      "text/plain": [
       "<Figure size 432x288 with 1 Axes>"
      ]
     },
     "metadata": {
      "needs_background": "light"
     },
     "output_type": "display_data"
    }
   ],
   "source": [
    "plt.plot(train_stats.history['sparse_categorical_accuracy'])\n",
    "plt.plot(train_stats.history['val_sparse_categorical_accuracy'])\n",
    "plt.title('model accuracy')\n",
    "plt.ylabel('accuracy')\n",
    "plt.xlabel('epoch')\n",
    "plt.legend(['train', 'test'], loc='upper left')\n",
    "plt.show()"
   ]
  },
  {
   "cell_type": "code",
   "execution_count": 179,
   "metadata": {},
   "outputs": [
    {
     "data": {
      "image/png": "[encoded data removed]",
      "text/plain": [
       "<Figure size 432x288 with 1 Axes>"
      ]
     },
     "metadata": {
      "needs_background": "light"
     },
     "output_type": "display_data"
    }
   ],
   "source": [
    "plt.plot(train_stats.history['loss'])\n",
    "plt.plot(train_stats.history['val_loss'])\n",
    "plt.title('model accuracy')\n",
    "plt.ylabel('accuracy')\n",
    "plt.xlabel('epoch')\n",
    "plt.legend(['train', 'test'], loc='upper left')\n",
    "plt.show()"
   ]
  },
  {
   "cell_type": "markdown",
   "metadata": {},
   "source": [
    "#### Result summary for model 1\n",
    "\n",
    "This is basically just doing a worse, less accurate model.\n",
    "It is only 60% accurate, meaning it is useless for detecting errors\n",
    "We need to try so"
   ]
  },
  {
   "cell_type": "markdown",
   "metadata": {},
   "source": [
    "#### Model 2:\n",
    "\n",
    "For this model, let us sum across multiple inputs (temporally).\n",
    "\n",
    "For example, lets say our batch size is 5. We sum up all the pixels across that batch\n",
    "Similar to superimposing multiple images on top of eachother\n",
    "\n",
    "We will also sum up the results (maybe the raw values, maybe 1 or zero)\n",
    "\n",
    "Then we will train/test on that data. Worth a shot\n",
    "\n",
    "\n"
   ]
  },
  {
   "cell_type": "code",
   "execution_count": null,
   "metadata": {},
   "outputs": [],
   "source": []
  }
 ],
 "metadata": {
  "colab": {
   "collapsed_sections": [],
   "name": "tensorflow/datasets",
   "private_outputs": true,
   "provenance": [],
   "toc_visible": true
  },
  "kernelspec": {
   "display_name": "Python 3",
   "language": "python",
   "name": "python3"
  },
  "language_info": {
   "codemirror_mode": {
    "name": "ipython",
    "version": 3
   },
   "file_extension": ".py",
   "mimetype": "text/x-python",
   "name": "python",
   "nbconvert_exporter": "python",
   "pygments_lexer": "ipython3",
   "version": "3.8.5"
  }
 },
 "nbformat": 4,
 "nbformat_minor": 4
}
