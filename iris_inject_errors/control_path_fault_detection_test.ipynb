{
 "cells": [
  {
   "cell_type": "code",
   "execution_count": 153,
   "metadata": {
    "id": "TTBSvHcSLBzc",
    "tags": []
   },
   "outputs": [],
   "source": [
    "import tensorflow as tf\n",
    "import tensorflow_datasets as tfds\n",
    "import matplotlib.pyplot as plt\n",
    "import numpy as np\n",
    "\n",
    "from scipy import stats"
   ]
  },
  {
   "cell_type": "markdown",
   "metadata": {
    "id": "c3aH3vP_XLI8"
   },
   "source": [
    "### Load MNIST"
   ]
  },
  {
   "cell_type": "code",
   "execution_count": 2,
   "metadata": {
    "id": "ZUMhCXhFXdHQ",
    "tags": []
   },
   "outputs": [],
   "source": [
    "mnist = tfds.image.MNIST()\n",
    "\n",
    "# Describe the dataset with DatasetInfo\n",
    "assert mnist.info.features['image'].shape == (28, 28, 1)\n",
    "assert mnist.info.features['label'].num_classes == 10\n",
    "assert mnist.info.splits['train'].num_examples == 60000\n",
    "\n",
    "# Download the data, prepare it, and write it to disk\n",
    "mnist.download_and_prepare()\n",
    "\n",
    "mnist_dataset = mnist.as_dataset(batch_size=-1)\n",
    "\n",
    "x_train = mnist_dataset['train']['image']\n",
    "y_train = mnist_dataset['train']['label']\n",
    "x_test  = mnist_dataset['test']['image']\n",
    "y_test  = mnist_dataset['test']['label']\n",
    "\n",
    "x_train = tf.cast(x_train, tf.float32)/255.0\n",
    "x_test = tf.cast(x_test, tf.float32)/255.0"
   ]
  },
  {
   "cell_type": "markdown",
   "metadata": {
    "id": "nTFoji3INMEM"
   },
   "source": [
    "## Create and train the model"
   ]
  },
  {
   "cell_type": "code",
   "execution_count": 3,
   "metadata": {
    "id": "XWqxdmS1NLKA",
    "tags": []
   },
   "outputs": [
    {
     "name": "stdout",
     "output_type": "stream",
     "text": [
      "Epoch 1/20\n",
      "469/469 [==============================] - 1s 2ms/step - loss: 0.3158 - sparse_categorical_accuracy: 0.9101 - val_loss: 0.1453 - val_sparse_categorical_accuracy: 0.9576\n",
      "Epoch 2/20\n",
      "469/469 [==============================] - 1s 2ms/step - loss: 0.1259 - sparse_categorical_accuracy: 0.9627 - val_loss: 0.1151 - val_sparse_categorical_accuracy: 0.9641\n",
      "Epoch 3/20\n",
      "469/469 [==============================] - 1s 2ms/step - loss: 0.0873 - sparse_categorical_accuracy: 0.9737 - val_loss: 0.0832 - val_sparse_categorical_accuracy: 0.9743\n",
      "Epoch 4/20\n",
      "469/469 [==============================] - 1s 2ms/step - loss: 0.0651 - sparse_categorical_accuracy: 0.9803 - val_loss: 0.0919 - val_sparse_categorical_accuracy: 0.9711\n",
      "Epoch 5/20\n",
      "469/469 [==============================] - 1s 1ms/step - loss: 0.0502 - sparse_categorical_accuracy: 0.9843 - val_loss: 0.0785 - val_sparse_categorical_accuracy: 0.9752\n",
      "Epoch 6/20\n",
      "469/469 [==============================] - 1s 2ms/step - loss: 0.0396 - sparse_categorical_accuracy: 0.9879 - val_loss: 0.0757 - val_sparse_categorical_accuracy: 0.9780\n",
      "Epoch 7/20\n",
      "469/469 [==============================] - 1s 2ms/step - loss: 0.0321 - sparse_categorical_accuracy: 0.9905 - val_loss: 0.0749 - val_sparse_categorical_accuracy: 0.9778\n",
      "Epoch 8/20\n",
      "469/469 [==============================] - 1s 2ms/step - loss: 0.0250 - sparse_categorical_accuracy: 0.9925 - val_loss: 0.0808 - val_sparse_categorical_accuracy: 0.9759\n",
      "Epoch 9/20\n",
      "469/469 [==============================] - 1s 2ms/step - loss: 0.0229 - sparse_categorical_accuracy: 0.9926 - val_loss: 0.0861 - val_sparse_categorical_accuracy: 0.9757\n",
      "Epoch 10/20\n",
      "469/469 [==============================] - 1s 2ms/step - loss: 0.0190 - sparse_categorical_accuracy: 0.9939 - val_loss: 0.0891 - val_sparse_categorical_accuracy: 0.9758\n",
      "Epoch 11/20\n",
      "469/469 [==============================] - 1s 2ms/step - loss: 0.0155 - sparse_categorical_accuracy: 0.9950 - val_loss: 0.0860 - val_sparse_categorical_accuracy: 0.9773\n",
      "Epoch 12/20\n",
      "469/469 [==============================] - 1s 2ms/step - loss: 0.0123 - sparse_categorical_accuracy: 0.9960 - val_loss: 0.0823 - val_sparse_categorical_accuracy: 0.9789\n",
      "Epoch 13/20\n",
      "469/469 [==============================] - 1s 1ms/step - loss: 0.0110 - sparse_categorical_accuracy: 0.9964 - val_loss: 0.1007 - val_sparse_categorical_accuracy: 0.9761\n",
      "Epoch 14/20\n",
      "469/469 [==============================] - 1s 1ms/step - loss: 0.0098 - sparse_categorical_accuracy: 0.9969 - val_loss: 0.0904 - val_sparse_categorical_accuracy: 0.9790\n",
      "Epoch 15/20\n",
      "469/469 [==============================] - 1s 1ms/step - loss: 0.0109 - sparse_categorical_accuracy: 0.9965 - val_loss: 0.0950 - val_sparse_categorical_accuracy: 0.9786\n",
      "Epoch 16/20\n",
      "469/469 [==============================] - 1s 2ms/step - loss: 0.0090 - sparse_categorical_accuracy: 0.9970 - val_loss: 0.1026 - val_sparse_categorical_accuracy: 0.9770\n",
      "Epoch 17/20\n",
      "469/469 [==============================] - 1s 2ms/step - loss: 0.0109 - sparse_categorical_accuracy: 0.9962 - val_loss: 0.1056 - val_sparse_categorical_accuracy: 0.9770\n",
      "Epoch 18/20\n",
      "469/469 [==============================] - 1s 2ms/step - loss: 0.0071 - sparse_categorical_accuracy: 0.9976 - val_loss: 0.0979 - val_sparse_categorical_accuracy: 0.9789\n",
      "Epoch 19/20\n",
      "469/469 [==============================] - 1s 2ms/step - loss: 0.0057 - sparse_categorical_accuracy: 0.9982 - val_loss: 0.1169 - val_sparse_categorical_accuracy: 0.9762\n",
      "Epoch 20/20\n",
      "469/469 [==============================] - 1s 2ms/step - loss: 0.0132 - sparse_categorical_accuracy: 0.9955 - val_loss: 0.0948 - val_sparse_categorical_accuracy: 0.9801\n"
     ]
    }
   ],
   "source": [
    "model = tf.keras.models.Sequential([\n",
    "  tf.keras.layers.Flatten(input_shape=(28, 28)),\n",
    "  tf.keras.layers.Dense(128,activation='relu'),\n",
    "  tf.keras.layers.Dense(128,activation='relu'),\n",
    "  tf.keras.layers.Dense(10)\n",
    "])\n",
    "model.compile(\n",
    "    optimizer=tf.keras.optimizers.Adam(0.001),\n",
    "    loss=tf.keras.losses.SparseCategoricalCrossentropy(from_logits=True),\n",
    "    metrics=[tf.keras.metrics.SparseCategoricalAccuracy()],\n",
    ")\n",
    "\n",
    "train_stats = model.fit(\n",
    "                x = x_train,\n",
    "                y = y_train,\n",
    "                shuffle=True,\n",
    "                epochs=20,\n",
    "                batch_size=128,\n",
    "                validation_data=(x_test, y_test),\n",
    "              )"
   ]
  },
  {
   "cell_type": "code",
   "execution_count": 4,
   "metadata": {},
   "outputs": [
    {
     "data": {
      "image/png": "[encoded data removed]",
      "text/plain": [
       "<Figure size 432x288 with 1 Axes>"
      ]
     },
     "metadata": {
      "needs_background": "light"
     },
     "output_type": "display_data"
    }
   ],
   "source": [
    "plt.plot(train_stats.history['sparse_categorical_accuracy'])\n",
    "plt.plot(train_stats.history['val_sparse_categorical_accuracy'])\n",
    "plt.title('model accuracy')\n",
    "plt.ylabel('accuracy')\n",
    "plt.xlabel('epoch')\n",
    "plt.legend(['train', 'test'], loc='upper left')\n",
    "plt.show()"
   ]
  },
  {
   "cell_type": "code",
   "execution_count": 5,
   "metadata": {},
   "outputs": [],
   "source": [
    "predictions_test = model.predict(x_test)"
   ]
  },
  {
   "cell_type": "code",
   "execution_count": 6,
   "metadata": {},
   "outputs": [
    {
     "data": {
      "text/plain": [
       "(10000, 10)"
      ]
     },
     "execution_count": 6,
     "metadata": {},
     "output_type": "execute_result"
    }
   ],
   "source": [
    "predictions_test.shape"
   ]
  },
  {
   "cell_type": "code",
   "execution_count": 7,
   "metadata": {},
   "outputs": [],
   "source": [
    "predictions_train = model.predict(x_train)"
   ]
  },
  {
   "cell_type": "markdown",
   "metadata": {},
   "source": [
    "## Check Model\n",
    "\n",
    "Now that the initial model is trained, we need to train our check model.\n",
    "We need to \n",
    "\n",
    " 1. come up with an initial transformation function for x\n",
    " 2. figure out what shape the check model should be (preferable smaller than initial model)\n",
    " 3. train so x' -> y'"
   ]
  },
  {
   "cell_type": "markdown",
   "metadata": {},
   "source": [
    "#### Model 1: Let's try to simply sum up rows of pixels and learn the output from them."
   ]
  },
  {
   "cell_type": "code",
   "execution_count": 8,
   "metadata": {},
   "outputs": [
    {
     "data": {
      "text/plain": [
       "TensorShape([60000, 28, 28, 1])"
      ]
     },
     "execution_count": 8,
     "metadata": {},
     "output_type": "execute_result"
    }
   ],
   "source": [
    "x_train.shape"
   ]
  },
  {
   "cell_type": "code",
   "execution_count": 9,
   "metadata": {},
   "outputs": [],
   "source": [
    "x_train_check = np.zeros((60000,28,1), dtype=np.float32)\n",
    "x_test_check = np.zeros((10000,28,1), dtype=np.float32)"
   ]
  },
  {
   "cell_type": "code",
   "execution_count": 10,
   "metadata": {},
   "outputs": [],
   "source": [
    "# x_train_numpy = x_train.numpy()"
   ]
  },
  {
   "cell_type": "code",
   "execution_count": 11,
   "metadata": {},
   "outputs": [],
   "source": [
    "for i in range(0,60000):\n",
    "    x_train_check[i] = sum(x_train[i])"
   ]
  },
  {
   "cell_type": "code",
   "execution_count": 12,
   "metadata": {},
   "outputs": [],
   "source": [
    "for i in range(0,10000):\n",
    "    x_test_check[i] = sum(x_test[i])"
   ]
  },
  {
   "cell_type": "code",
   "execution_count": 13,
   "metadata": {},
   "outputs": [
    {
     "data": {
      "text/plain": [
       "(60000, 28, 1)"
      ]
     },
     "execution_count": 13,
     "metadata": {},
     "output_type": "execute_result"
    }
   ],
   "source": [
    "x_train_check.shape"
   ]
  },
  {
   "cell_type": "code",
   "execution_count": 14,
   "metadata": {},
   "outputs": [
    {
     "data": {
      "text/plain": [
       "TensorShape([28, 1])"
      ]
     },
     "execution_count": 14,
     "metadata": {},
     "output_type": "execute_result"
    }
   ],
   "source": [
    "sum(x_train[0]).shape"
   ]
  },
  {
   "cell_type": "code",
   "execution_count": 15,
   "metadata": {},
   "outputs": [],
   "source": [
    "model_check = tf.keras.models.Sequential([\n",
    "  tf.keras.layers.Flatten(input_shape=(28,1)),\n",
    "  tf.keras.layers.Dense(64,activation='relu'),\n",
    "  tf.keras.layers.Dense(10)\n",
    "])\n",
    "model_check.compile(\n",
    "    optimizer=tf.keras.optimizers.Adam(0.001),\n",
    "    loss=tf.keras.losses.SparseCategoricalCrossentropy(from_logits=True),\n",
    "    metrics=[tf.keras.metrics.SparseCategoricalAccuracy()],\n",
    ")\n",
    "\n",
    "train_stats = model_check.fit(\n",
    "                x = x_train_check,\n",
    "                y = y_train,\n",
    "                shuffle=True,\n",
    "                epochs=100,\n",
    "                batch_size=128,\n",
    "                validation_data=(x_test_check, y_test),\n",
    "                verbose=0\n",
    "              )"
   ]
  },
  {
   "cell_type": "code",
   "execution_count": 16,
   "metadata": {},
   "outputs": [
    {
     "data": {
      "image/png": "[encoded data removed]",
      "text/plain": [
       "<Figure size 432x288 with 1 Axes>"
      ]
     },
     "metadata": {
      "needs_background": "light"
     },
     "output_type": "display_data"
    }
   ],
   "source": [
    "plt.plot(train_stats.history['sparse_categorical_accuracy'])\n",
    "plt.plot(train_stats.history['val_sparse_categorical_accuracy'])\n",
    "plt.title('model accuracy')\n",
    "plt.ylabel('accuracy')\n",
    "plt.xlabel('epoch')\n",
    "plt.legend(['train', 'test'], loc='upper left')\n",
    "plt.show()"
   ]
  },
  {
   "cell_type": "code",
   "execution_count": 17,
   "metadata": {},
   "outputs": [
    {
     "data": {
      "image/png": "[encoded data removed]",
      "text/plain": [
       "<Figure size 432x288 with 1 Axes>"
      ]
     },
     "metadata": {
      "needs_background": "light"
     },
     "output_type": "display_data"
    }
   ],
   "source": [
    "plt.plot(train_stats.history['loss'])\n",
    "plt.plot(train_stats.history['val_loss'])\n",
    "plt.title('model accuracy')\n",
    "plt.ylabel('accuracy')\n",
    "plt.xlabel('epoch')\n",
    "plt.legend(['train', 'test'], loc='upper left')\n",
    "plt.show()"
   ]
  },
  {
   "cell_type": "markdown",
   "metadata": {},
   "source": [
    "#### Result summary for model 1\n",
    "\n",
    "This is basically just doing a worse, less accurate model.\n",
    "It is only 60% accurate, meaning it is useless for detecting errors\n",
    "We need to try so"
   ]
  },
  {
   "cell_type": "markdown",
   "metadata": {},
   "source": [
    "#### Model 2:\n",
    "\n",
    "For this model, let us sum across multiple inputs (temporally).\n",
    "\n",
    "For example, lets say our batch size is 5. We sum up all the pixels across that batch\n",
    "Similar to superimposing multiple images on top of eachother\n",
    "\n",
    "We will also sum up the results (maybe the raw values, maybe 1 or zero)\n",
    "\n",
    "Then we will train/test on that data. Worth a shot\n",
    "\n",
    "\n"
   ]
  },
  {
   "cell_type": "code",
   "execution_count": 18,
   "metadata": {},
   "outputs": [
    {
     "data": {
      "text/plain": [
       "TensorShape([60000, 28, 28, 1])"
      ]
     },
     "execution_count": 18,
     "metadata": {},
     "output_type": "execute_result"
    }
   ],
   "source": [
    "x_train.shape"
   ]
  },
  {
   "cell_type": "code",
   "execution_count": 19,
   "metadata": {},
   "outputs": [
    {
     "name": "stdout",
     "output_type": "stream",
     "text": [
      "12000\n",
      "2000\n"
     ]
    }
   ],
   "source": [
    "concat_size = 5\n",
    "train_len = int(60000/concat_size)\n",
    "print(train_len)\n",
    "test_len = int(10000/concat_size)\n",
    "print(test_len)"
   ]
  },
  {
   "cell_type": "code",
   "execution_count": 20,
   "metadata": {},
   "outputs": [],
   "source": [
    "x_train_check1 = np.zeros((train_len,28,28,1), dtype=np.float32)\n",
    "x_test_check1 = np.zeros((test_len,28,28,1), dtype=np.float32)"
   ]
  },
  {
   "cell_type": "code",
   "execution_count": 21,
   "metadata": {},
   "outputs": [],
   "source": [
    "predictions_train_check1 = np.zeros((train_len,10), dtype=np.float32)\n",
    "predictions_test_check1 = np.zeros((test_len,10), dtype=np.float32)"
   ]
  },
  {
   "cell_type": "code",
   "execution_count": 22,
   "metadata": {},
   "outputs": [],
   "source": [
    "j = 0\n",
    "i = 0\n",
    "while i < 60000:\n",
    "    x_train_check1[j] = sum(x_train[i:i+5])/5\n",
    "    #predictions_train_check1[j] = sum(tf.nn.softmax(predictions_train[i:i+5]))/5\n",
    "    predictions_train_check1[j] = sum(tf.one_hot(y_train[i:i+5], 10))/5\n",
    "    i+=5\n",
    "    j+=1\n"
   ]
  },
  {
   "cell_type": "code",
   "execution_count": 23,
   "metadata": {},
   "outputs": [],
   "source": [
    "j = 0\n",
    "i = 0\n",
    "while i < 10000:\n",
    "    x_test_check1[j] = sum(x_test[i:i+5])/5\n",
    "    #predictions_test_check1[j] = sum(tf.nn.softmax(predictions_test[i:i+5]))/5\n",
    "    predictions_test_check1[j] = sum(tf.one_hot(y_test[i:i+5], 10))/5\n",
    "    i+=5\n",
    "    j+=1\n"
   ]
  },
  {
   "cell_type": "code",
   "execution_count": 24,
   "metadata": {},
   "outputs": [],
   "source": [
    "# NOTE may need to normalize these by the concat size\n",
    "# May also need to sum predictions_train/test in a different way\n",
    "# and normalize\n",
    "\n",
    "# TODO maybe try a different loss function. \n",
    "# This seems to be for single label\n",
    "# or change the prediction so that there is a label for every\n",
    "# different combo of numbers"
   ]
  },
  {
   "cell_type": "code",
   "execution_count": 25,
   "metadata": {},
   "outputs": [],
   "source": [
    "model_check1 = tf.keras.models.Sequential([\n",
    "  tf.keras.layers.Flatten(input_shape=(28,28,1)),\n",
    "  tf.keras.layers.Dense(128,activation='relu'),\n",
    "  tf.keras.layers.Dense(10)\n",
    "])\n",
    "model_check1.compile(\n",
    "    optimizer=tf.keras.optimizers.Adam(0.001),\n",
    "    loss=tf.keras.losses.CategoricalCrossentropy(from_logits=True),\n",
    "    metrics=[tf.keras.metrics.CategoricalAccuracy()],\n",
    ")\n",
    "\n",
    "train_stats = model_check1.fit(\n",
    "                x = x_train_check1,\n",
    "                y = predictions_train_check1,\n",
    "                shuffle=True,\n",
    "                epochs=100,\n",
    "                batch_size=128,\n",
    "                validation_data=(x_test_check1, predictions_test_check1),\n",
    "                verbose=0\n",
    "              )"
   ]
  },
  {
   "cell_type": "code",
   "execution_count": 28,
   "metadata": {},
   "outputs": [
    {
     "data": {
      "image/png": "[encoded data removed]",
      "text/plain": [
       "<Figure size 432x288 with 1 Axes>"
      ]
     },
     "metadata": {
      "needs_background": "light"
     },
     "output_type": "display_data"
    }
   ],
   "source": [
    "plt.plot(train_stats.history['categorical_accuracy'])\n",
    "plt.plot(train_stats.history['val_categorical_accuracy'])\n",
    "plt.title('model accuracy')\n",
    "plt.ylabel('accuracy')\n",
    "plt.xlabel('epoch')\n",
    "plt.legend(['train', 'test'], loc='upper left')\n",
    "plt.show()"
   ]
  },
  {
   "cell_type": "code",
   "execution_count": 29,
   "metadata": {},
   "outputs": [
    {
     "data": {
      "image/png": "[encoded data removed]",
      "text/plain": [
       "<Figure size 432x288 with 1 Axes>"
      ]
     },
     "metadata": {
      "needs_background": "light"
     },
     "output_type": "display_data"
    }
   ],
   "source": [
    "plt.plot(train_stats.history['loss'])\n",
    "plt.plot(train_stats.history['val_loss'])\n",
    "plt.title('model loss')\n",
    "plt.ylabel('loss')\n",
    "plt.xlabel('epoch')\n",
    "plt.legend(['train', 'test'], loc='upper left')\n",
    "plt.show()"
   ]
  },
  {
   "cell_type": "code",
   "execution_count": null,
   "metadata": {},
   "outputs": [],
   "source": []
  },
  {
   "cell_type": "code",
   "execution_count": 30,
   "metadata": {},
   "outputs": [
    {
     "data": {
      "text/plain": [
       "array([-19.068153  ,   9.351563  , -13.903353  ,  -7.159692  ,\n",
       "        18.381254  ,  -8.300275  , -14.584712  ,  -0.48819745,\n",
       "        -5.1878414 ,  -2.4459643 ], dtype=float32)"
      ]
     },
     "execution_count": 30,
     "metadata": {},
     "output_type": "execute_result"
    }
   ],
   "source": [
    "predictions_train[0]"
   ]
  },
  {
   "cell_type": "code",
   "execution_count": 31,
   "metadata": {},
   "outputs": [
    {
     "data": {
      "text/plain": [
       "<tf.Tensor: shape=(60000, 10), dtype=float32, numpy=\n",
       "array([[5.4434731e-17, 1.1978519e-04, 9.5262357e-15, ..., 6.3833596e-09,\n",
       "        5.8079087e-11, 9.0115954e-10],\n",
       "       [1.0250121e-14, 9.9999988e-01, 8.3791630e-14, ..., 1.5603887e-07,\n",
       "        2.0351468e-10, 1.0109887e-08],\n",
       "       [1.0000000e+00, 6.4607296e-14, 2.1822502e-09, ..., 4.5350446e-19,\n",
       "        9.5826288e-16, 2.4039399e-16],\n",
       "       ...,\n",
       "       [3.7811011e-11, 7.8091339e-15, 3.0810850e-16, ..., 2.3935242e-18,\n",
       "        1.3615292e-16, 5.2047602e-16],\n",
       "       [1.1163703e-18, 9.9999964e-01, 6.6319557e-13, ..., 1.7697760e-09,\n",
       "        1.9361245e-07, 4.6566109e-11],\n",
       "       [9.2807638e-14, 8.0510963e-14, 1.1568633e-18, ..., 2.8963112e-12,\n",
       "        2.1523602e-08, 5.0601814e-12]], dtype=float32)>"
      ]
     },
     "execution_count": 31,
     "metadata": {},
     "output_type": "execute_result"
    }
   ],
   "source": [
    "tf.nn.softmax(predictions_train)"
   ]
  },
  {
   "cell_type": "code",
   "execution_count": null,
   "metadata": {},
   "outputs": [],
   "source": [
    "y_train"
   ]
  },
  {
   "cell_type": "code",
   "execution_count": null,
   "metadata": {},
   "outputs": [],
   "source": [
    "tf.one_hot(y_train[0:5], 10)"
   ]
  },
  {
   "cell_type": "code",
   "execution_count": null,
   "metadata": {},
   "outputs": [],
   "source": [
    "y_train[0:5]"
   ]
  },
  {
   "cell_type": "markdown",
   "metadata": {},
   "source": [
    "### Model 3:\n",
    "\n",
    "In this model we will train semi normally, but add extra outputs that will not be trained to try to use for error detection"
   ]
  },
  {
   "cell_type": "code",
   "execution_count": 3,
   "metadata": {},
   "outputs": [],
   "source": [
    "# Define model layers.\n",
    "input_layer = tf.keras.layers.Input(shape=(28,28,1))\n",
    "flatten_layer = tf.keras.layers.Flatten()(input_layer)\n",
    "first_dense = tf.keras.layers.Dense(units='128', activation='relu')(flatten_layer)\n",
    "\n",
    "# Y1 output will be fed from the first dense\n",
    "# y1_output = Dense(units='1', name='price_output')(first_dense)\n",
    "categorical_output = tf.keras.layers.Dense(units='10', \n",
    "                                           kernel_initializer='ones',\n",
    "                                           bias_initializer='zeros',\n",
    "                                           name='category_output')(first_dense)\n",
    "\n",
    "# second_dense = Dense(units='128',activation='relu')(first_dense)\n",
    "# Y2 output will be fed from the second dense\n",
    "check_output = tf.keras.layers.Dense(units='2',name='check_output')(categorical_output)\n",
    "\n",
    "# Define the model with the input layer \n",
    "# and a list of output layers\n",
    "model3 = tf.keras.Model(inputs=input_layer,outputs=[categorical_output, check_output])"
   ]
  },
  {
   "cell_type": "code",
   "execution_count": 4,
   "metadata": {},
   "outputs": [],
   "source": [
    "# Specify the optimizer, and compile the model with loss functions for both outputs\n",
    "\n",
    "# optimizer=tf.keras.optimizers.Adam(0.001),\n",
    "# loss=tf.keras.losses.SparseCategoricalCrossentropy(from_logits=True),\n",
    "# metrics=[tf.keras.metrics.SparseCategoricalAccuracy()],\n",
    "\n",
    "model3.compile(optimizer = tf.keras.optimizers.Adam(0.001),\n",
    "              loss={'category_output': tf.keras.losses.SparseCategoricalCrossentropy(from_logits=True)},\n",
    "              metrics={'category_output':tf.keras.metrics.SparseCategoricalAccuracy()}\n",
    "             )"
   ]
  },
  {
   "cell_type": "code",
   "execution_count": 5,
   "metadata": {},
   "outputs": [
    {
     "name": "stdout",
     "output_type": "stream",
     "text": [
      "Epoch 1/30\n",
      "WARNING:tensorflow:Gradients do not exist for variables ['check_output/kernel:0', 'check_output/bias:0'] when minimizing the loss.\n"
     ]
    },
    {
     "name": "stderr",
     "output_type": "stream",
     "text": [
      "WARNING:tensorflow:Gradients do not exist for variables ['check_output/kernel:0', 'check_output/bias:0'] when minimizing the loss.\n"
     ]
    },
    {
     "name": "stdout",
     "output_type": "stream",
     "text": [
      "WARNING:tensorflow:Gradients do not exist for variables ['check_output/kernel:0', 'check_output/bias:0'] when minimizing the loss.\n"
     ]
    },
    {
     "name": "stderr",
     "output_type": "stream",
     "text": [
      "WARNING:tensorflow:Gradients do not exist for variables ['check_output/kernel:0', 'check_output/bias:0'] when minimizing the loss.\n"
     ]
    },
    {
     "name": "stdout",
     "output_type": "stream",
     "text": [
      "WARNING:tensorflow:Gradients do not exist for variables ['check_output/kernel:0', 'check_output/bias:0'] when minimizing the loss.\n"
     ]
    },
    {
     "name": "stderr",
     "output_type": "stream",
     "text": [
      "WARNING:tensorflow:Gradients do not exist for variables ['check_output/kernel:0', 'check_output/bias:0'] when minimizing the loss.\n"
     ]
    },
    {
     "name": "stdout",
     "output_type": "stream",
     "text": [
      "WARNING:tensorflow:Gradients do not exist for variables ['check_output/kernel:0', 'check_output/bias:0'] when minimizing the loss.\n"
     ]
    },
    {
     "name": "stderr",
     "output_type": "stream",
     "text": [
      "WARNING:tensorflow:Gradients do not exist for variables ['check_output/kernel:0', 'check_output/bias:0'] when minimizing the loss.\n"
     ]
    },
    {
     "name": "stdout",
     "output_type": "stream",
     "text": [
      "469/469 [==============================] - 1s 3ms/step - loss: 0.4787 - category_output_loss: 0.4787 - category_output_sparse_categorical_accuracy: 0.8692 - val_loss: 0.2590 - val_category_output_loss: 0.2590 - val_category_output_sparse_categorical_accuracy: 0.9268\n",
      "Epoch 2/30\n",
      "469/469 [==============================] - 1s 2ms/step - loss: 0.2243 - category_output_loss: 0.2243 - category_output_sparse_categorical_accuracy: 0.9359 - val_loss: 0.1813 - val_category_output_loss: 0.1813 - val_category_output_sparse_categorical_accuracy: 0.9476\n",
      "Epoch 3/30\n",
      "469/469 [==============================] - 1s 2ms/step - loss: 0.1612 - category_output_loss: 0.1612 - category_output_sparse_categorical_accuracy: 0.9536 - val_loss: 0.1385 - val_category_output_loss: 0.1385 - val_category_output_sparse_categorical_accuracy: 0.9586\n",
      "Epoch 4/30\n",
      "469/469 [==============================] - 1s 2ms/step - loss: 0.1241 - category_output_loss: 0.1241 - category_output_sparse_categorical_accuracy: 0.9638 - val_loss: 0.1176 - val_category_output_loss: 0.1176 - val_category_output_sparse_categorical_accuracy: 0.9665\n",
      "Epoch 5/30\n",
      "469/469 [==============================] - 1s 2ms/step - loss: 0.0998 - category_output_loss: 0.0998 - category_output_sparse_categorical_accuracy: 0.9708 - val_loss: 0.1047 - val_category_output_loss: 0.1047 - val_category_output_sparse_categorical_accuracy: 0.9686\n",
      "Epoch 6/30\n",
      "469/469 [==============================] - 1s 2ms/step - loss: 0.0827 - category_output_loss: 0.0827 - category_output_sparse_categorical_accuracy: 0.9758 - val_loss: 0.0917 - val_category_output_loss: 0.0917 - val_category_output_sparse_categorical_accuracy: 0.9736\n",
      "Epoch 7/30\n",
      "469/469 [==============================] - 1s 2ms/step - loss: 0.0688 - category_output_loss: 0.0688 - category_output_sparse_categorical_accuracy: 0.9797 - val_loss: 0.0852 - val_category_output_loss: 0.0852 - val_category_output_sparse_categorical_accuracy: 0.9750\n",
      "Epoch 8/30\n",
      "469/469 [==============================] - 1s 2ms/step - loss: 0.0586 - category_output_loss: 0.0586 - category_output_sparse_categorical_accuracy: 0.9833 - val_loss: 0.0804 - val_category_output_loss: 0.0804 - val_category_output_sparse_categorical_accuracy: 0.9753\n",
      "Epoch 9/30\n",
      "469/469 [==============================] - 1s 2ms/step - loss: 0.0501 - category_output_loss: 0.0501 - category_output_sparse_categorical_accuracy: 0.9853 - val_loss: 0.0761 - val_category_output_loss: 0.0761 - val_category_output_sparse_categorical_accuracy: 0.9772\n",
      "Epoch 10/30\n",
      "469/469 [==============================] - 1s 2ms/step - loss: 0.0427 - category_output_loss: 0.0427 - category_output_sparse_categorical_accuracy: 0.9876 - val_loss: 0.0705 - val_category_output_loss: 0.0705 - val_category_output_sparse_categorical_accuracy: 0.9778\n",
      "Epoch 11/30\n",
      "469/469 [==============================] - 1s 2ms/step - loss: 0.0371 - category_output_loss: 0.0371 - category_output_sparse_categorical_accuracy: 0.9896 - val_loss: 0.0790 - val_category_output_loss: 0.0790 - val_category_output_sparse_categorical_accuracy: 0.9765\n",
      "Epoch 12/30\n",
      "469/469 [==============================] - 1s 2ms/step - loss: 0.0319 - category_output_loss: 0.0319 - category_output_sparse_categorical_accuracy: 0.9908 - val_loss: 0.0697 - val_category_output_loss: 0.0697 - val_category_output_sparse_categorical_accuracy: 0.9790\n",
      "Epoch 13/30\n",
      "469/469 [==============================] - 1s 2ms/step - loss: 0.0271 - category_output_loss: 0.0271 - category_output_sparse_categorical_accuracy: 0.9929 - val_loss: 0.0744 - val_category_output_loss: 0.0744 - val_category_output_sparse_categorical_accuracy: 0.9772\n",
      "Epoch 14/30\n",
      "469/469 [==============================] - 1s 2ms/step - loss: 0.0234 - category_output_loss: 0.0234 - category_output_sparse_categorical_accuracy: 0.9940 - val_loss: 0.0720 - val_category_output_loss: 0.0720 - val_category_output_sparse_categorical_accuracy: 0.9776\n",
      "Epoch 15/30\n",
      "469/469 [==============================] - 1s 2ms/step - loss: 0.0201 - category_output_loss: 0.0201 - category_output_sparse_categorical_accuracy: 0.9948 - val_loss: 0.0778 - val_category_output_loss: 0.0778 - val_category_output_sparse_categorical_accuracy: 0.9778\n",
      "Epoch 16/30\n",
      "469/469 [==============================] - 1s 2ms/step - loss: 0.0172 - category_output_loss: 0.0172 - category_output_sparse_categorical_accuracy: 0.9960 - val_loss: 0.0744 - val_category_output_loss: 0.0744 - val_category_output_sparse_categorical_accuracy: 0.9783\n",
      "Epoch 17/30\n",
      "469/469 [==============================] - 1s 2ms/step - loss: 0.0152 - category_output_loss: 0.0152 - category_output_sparse_categorical_accuracy: 0.9969 - val_loss: 0.0725 - val_category_output_loss: 0.0725 - val_category_output_sparse_categorical_accuracy: 0.9783\n",
      "Epoch 18/30\n",
      "469/469 [==============================] - 1s 2ms/step - loss: 0.0131 - category_output_loss: 0.0131 - category_output_sparse_categorical_accuracy: 0.9972 - val_loss: 0.0755 - val_category_output_loss: 0.0755 - val_category_output_sparse_categorical_accuracy: 0.9794\n",
      "Epoch 19/30\n",
      "469/469 [==============================] - 1s 2ms/step - loss: 0.0105 - category_output_loss: 0.0105 - category_output_sparse_categorical_accuracy: 0.9981 - val_loss: 0.0744 - val_category_output_loss: 0.0744 - val_category_output_sparse_categorical_accuracy: 0.9782\n",
      "Epoch 20/30\n",
      "469/469 [==============================] - 1s 2ms/step - loss: 0.0094 - category_output_loss: 0.0094 - category_output_sparse_categorical_accuracy: 0.9983 - val_loss: 0.0737 - val_category_output_loss: 0.0737 - val_category_output_sparse_categorical_accuracy: 0.9802\n",
      "Epoch 21/30\n",
      "469/469 [==============================] - 1s 2ms/step - loss: 0.0081 - category_output_loss: 0.0081 - category_output_sparse_categorical_accuracy: 0.9986 - val_loss: 0.0791 - val_category_output_loss: 0.0791 - val_category_output_sparse_categorical_accuracy: 0.9790\n",
      "Epoch 22/30\n",
      "469/469 [==============================] - 1s 2ms/step - loss: 0.0073 - category_output_loss: 0.0073 - category_output_sparse_categorical_accuracy: 0.9988 - val_loss: 0.0784 - val_category_output_loss: 0.0784 - val_category_output_sparse_categorical_accuracy: 0.9793\n",
      "Epoch 23/30\n",
      "469/469 [==============================] - 1s 2ms/step - loss: 0.0063 - category_output_loss: 0.0063 - category_output_sparse_categorical_accuracy: 0.9989 - val_loss: 0.0783 - val_category_output_loss: 0.0783 - val_category_output_sparse_categorical_accuracy: 0.9792\n",
      "Epoch 24/30\n",
      "469/469 [==============================] - 1s 2ms/step - loss: 0.0059 - category_output_loss: 0.0059 - category_output_sparse_categorical_accuracy: 0.9989 - val_loss: 0.0825 - val_category_output_loss: 0.0825 - val_category_output_sparse_categorical_accuracy: 0.9778\n",
      "Epoch 25/30\n",
      "469/469 [==============================] - 1s 2ms/step - loss: 0.0044 - category_output_loss: 0.0044 - category_output_sparse_categorical_accuracy: 0.9994 - val_loss: 0.0810 - val_category_output_loss: 0.0810 - val_category_output_sparse_categorical_accuracy: 0.9787\n",
      "Epoch 26/30\n",
      "469/469 [==============================] - 1s 2ms/step - loss: 0.0038 - category_output_loss: 0.0038 - category_output_sparse_categorical_accuracy: 0.9996 - val_loss: 0.0835 - val_category_output_loss: 0.0835 - val_category_output_sparse_categorical_accuracy: 0.9785\n",
      "Epoch 27/30\n",
      "469/469 [==============================] - 1s 2ms/step - loss: 0.0033 - category_output_loss: 0.0033 - category_output_sparse_categorical_accuracy: 0.9997 - val_loss: 0.0873 - val_category_output_loss: 0.0873 - val_category_output_sparse_categorical_accuracy: 0.9805\n",
      "Epoch 28/30\n",
      "469/469 [==============================] - 1s 2ms/step - loss: 0.0044 - category_output_loss: 0.0044 - category_output_sparse_categorical_accuracy: 0.9991 - val_loss: 0.0886 - val_category_output_loss: 0.0886 - val_category_output_sparse_categorical_accuracy: 0.9780\n",
      "Epoch 29/30\n",
      "469/469 [==============================] - 1s 2ms/step - loss: 0.0037 - category_output_loss: 0.0037 - category_output_sparse_categorical_accuracy: 0.9993 - val_loss: 0.0901 - val_category_output_loss: 0.0901 - val_category_output_sparse_categorical_accuracy: 0.9793\n",
      "Epoch 30/30\n",
      "469/469 [==============================] - 1s 2ms/step - loss: 0.0022 - category_output_loss: 0.0022 - category_output_sparse_categorical_accuracy: 0.9998 - val_loss: 0.0989 - val_category_output_loss: 0.0989 - val_category_output_sparse_categorical_accuracy: 0.9775\n"
     ]
    }
   ],
   "source": [
    "# Train the model for 100 epochs\n",
    "history = model3.fit(x = x_train,\n",
    "                     y = {'category_output': y_train},\n",
    "                     shuffle=True,\n",
    "                     epochs=30, batch_size=128, \n",
    "                     validation_data=(x_test, y_test))"
   ]
  },
  {
   "cell_type": "code",
   "execution_count": 6,
   "metadata": {},
   "outputs": [],
   "source": [
    "model3_train_predictions = model3.predict(x_train)\n",
    "model3_test_predictions = model3.predict(x_test)"
   ]
  },
  {
   "cell_type": "code",
   "execution_count": 71,
   "metadata": {},
   "outputs": [
    {
     "name": "stdout",
     "output_type": "stream",
     "text": [
      "1875/1875 [==============================] - 2s 1ms/step - loss: 0.0082 - category_output_loss: 0.0082 - category_output_sparse_categorical_accuracy: 0.9978\n"
     ]
    },
    {
     "data": {
      "text/plain": [
       "[0.008246034383773804, 0.008246034383773804, 0.997783362865448]"
      ]
     },
     "execution_count": 71,
     "metadata": {},
     "output_type": "execute_result"
    }
   ],
   "source": [
    "model3.evaluate(x_train, y_train)"
   ]
  },
  {
   "cell_type": "code",
   "execution_count": 72,
   "metadata": {},
   "outputs": [
    {
     "name": "stdout",
     "output_type": "stream",
     "text": [
      "313/313 [==============================] - 0s 925us/step - loss: 0.0989 - category_output_loss: 0.0989 - category_output_sparse_categorical_accuracy: 0.9775\n"
     ]
    },
    {
     "data": {
      "text/plain": [
       "[0.0988721027970314, 0.0988721027970314, 0.9775000214576721]"
      ]
     },
     "execution_count": 72,
     "metadata": {},
     "output_type": "execute_result"
    }
   ],
   "source": [
    "model3.evaluate(x_test, y_test)"
   ]
  },
  {
   "cell_type": "code",
   "execution_count": 7,
   "metadata": {},
   "outputs": [
    {
     "name": "stdout",
     "output_type": "stream",
     "text": [
      "(60000, 10)\n",
      "(60000, 2)\n"
     ]
    }
   ],
   "source": [
    "print(model3_train_predictions[0].shape)\n",
    "print(model3_train_predictions[1].shape)"
   ]
  },
  {
   "cell_type": "code",
   "execution_count": 8,
   "metadata": {},
   "outputs": [
    {
     "data": {
      "text/plain": [
       "TensorShape([60000, 28, 28, 1])"
      ]
     },
     "execution_count": 8,
     "metadata": {},
     "output_type": "execute_result"
    }
   ],
   "source": [
    "x_train.shape"
   ]
  },
  {
   "cell_type": "code",
   "execution_count": 17,
   "metadata": {},
   "outputs": [],
   "source": [
    "model3_check = tf.keras.models.Sequential([\n",
    "                   tf.keras.layers.Flatten(input_shape=(28,28)),\n",
    "                   tf.keras.layers.Dense(64,activation='relu'),\n",
    "                   tf.keras.layers.Dense(2)\n",
    "               ])\n",
    "model3_check.compile(\n",
    "    optimizer=tf.keras.optimizers.Adam(0.001),\n",
    "    loss=tf.keras.losses.MeanSquaredError(),\n",
    "    metrics=[tf.keras.losses.MeanSquaredError(),tf.keras.metrics.MeanAbsoluteError(), tf.keras.metrics.Accuracy()],\n",
    ")\n",
    "\n",
    "train_stats = model3_check.fit(\n",
    "                x = x_train,\n",
    "                y = model3_train_predictions[1],\n",
    "                shuffle=True,\n",
    "                epochs=100,\n",
    "                batch_size=128,\n",
    "                validation_data=(x_test, model3_test_predictions[1]),\n",
    "                verbose=0\n",
    "              )"
   ]
  },
  {
   "cell_type": "code",
   "execution_count": 22,
   "metadata": {},
   "outputs": [
    {
     "data": {
      "image/png": "[encoded data removed]",
      "text/plain": [
       "<Figure size 432x288 with 1 Axes>"
      ]
     },
     "metadata": {
      "needs_background": "light"
     },
     "output_type": "display_data"
    }
   ],
   "source": [
    "plt.plot(train_stats.history['mean_squared_error'][20:])\n",
    "plt.plot(train_stats.history['val_mean_squared_error'][20:])\n",
    "plt.title('model MSE')\n",
    "plt.ylabel('MAE')\n",
    "plt.xlabel('epoch')\n",
    "plt.legend(['train', 'test'], loc='upper left')\n",
    "plt.show()"
   ]
  },
  {
   "cell_type": "code",
   "execution_count": 24,
   "metadata": {},
   "outputs": [
    {
     "data": {
      "image/png": "[encoded data removed]",
      "text/plain": [
       "<Figure size 432x288 with 1 Axes>"
      ]
     },
     "metadata": {
      "needs_background": "light"
     },
     "output_type": "display_data"
    }
   ],
   "source": [
    "plt.plot(train_stats.history['loss'][20:])\n",
    "plt.plot(train_stats.history['val_loss'][20:])\n",
    "plt.title('model loss')\n",
    "plt.ylabel('loss')\n",
    "plt.xlabel('epoch')\n",
    "plt.legend(['train', 'test'], loc='upper left')\n",
    "plt.show()"
   ]
  },
  {
   "cell_type": "code",
   "execution_count": 56,
   "metadata": {},
   "outputs": [
    {
     "name": "stdout",
     "output_type": "stream",
     "text": [
      "1875/1875 [==============================] - 2s 1ms/step - loss: 6.6542 - mean_squared_error: 6.6542 - mean_absolute_error: 1.9775 - accuracy: 0.0000e+00\n"
     ]
    },
    {
     "data": {
      "text/plain": [
       "[6.654230117797852, 6.654230117797852, 1.9774984121322632, 0.0]"
      ]
     },
     "execution_count": 56,
     "metadata": {},
     "output_type": "execute_result"
    }
   ],
   "source": [
    "model3_check.evaluate(x_train, model3_train_predictions[1])"
   ]
  },
  {
   "cell_type": "code",
   "execution_count": 25,
   "metadata": {},
   "outputs": [
    {
     "data": {
      "text/plain": [
       "array([[-64.00462,  79.1978 ]], dtype=float32)"
      ]
     },
     "execution_count": 25,
     "metadata": {},
     "output_type": "execute_result"
    }
   ],
   "source": [
    "model3_check.predict(x_train[0:1])"
   ]
  },
  {
   "cell_type": "code",
   "execution_count": 26,
   "metadata": {},
   "outputs": [
    {
     "data": {
      "text/plain": [
       "array([-64.22179,  82.23684], dtype=float32)"
      ]
     },
     "execution_count": 26,
     "metadata": {},
     "output_type": "execute_result"
    }
   ],
   "source": [
    "model3_train_predictions[1][0]"
   ]
  },
  {
   "cell_type": "code",
   "execution_count": 27,
   "metadata": {},
   "outputs": [
    {
     "data": {
      "text/plain": [
       "array([[-145.68459 ,  126.530876]], dtype=float32)"
      ]
     },
     "execution_count": 27,
     "metadata": {},
     "output_type": "execute_result"
    }
   ],
   "source": [
    "model3_check.predict(x_test[400:401])"
   ]
  },
  {
   "cell_type": "code",
   "execution_count": 28,
   "metadata": {},
   "outputs": [
    {
     "data": {
      "text/plain": [
       "array([-145.31837,  124.87227], dtype=float32)"
      ]
     },
     "execution_count": 28,
     "metadata": {},
     "output_type": "execute_result"
    }
   ],
   "source": [
    "model3_test_predictions[1][400]"
   ]
  },
  {
   "cell_type": "code",
   "execution_count": 29,
   "metadata": {},
   "outputs": [
    {
     "data": {
      "text/plain": [
       "<tf.Tensor: shape=(1,), dtype=float32, numpy=array([4.641461], dtype=float32)>"
      ]
     },
     "execution_count": 29,
     "metadata": {},
     "output_type": "execute_result"
    }
   ],
   "source": [
    "tf.keras.losses.MSE(model3_train_predictions[1][0], model3_check.predict(x_train[0:1]))"
   ]
  },
  {
   "cell_type": "code",
   "execution_count": 30,
   "metadata": {},
   "outputs": [],
   "source": [
    "model3_train_check_predictions = model3_check.predict(x_train)"
   ]
  },
  {
   "cell_type": "code",
   "execution_count": 31,
   "metadata": {},
   "outputs": [],
   "source": [
    "model3_train_mses = tf.keras.losses.MSE(model3_train_predictions[1], model3_train_check_predictions)"
   ]
  },
  {
   "cell_type": "code",
   "execution_count": 70,
   "metadata": {},
   "outputs": [
    {
     "data": {
      "image/png": "[encoded data removed]",
      "text/plain": [
       "<Figure size 432x288 with 1 Axes>"
      ]
     },
     "metadata": {
      "needs_background": "light"
     },
     "output_type": "display_data"
    }
   ],
   "source": [
    "plt.plot(model3_train_mses)\n",
    "# plt.plot(train_stats.history['val_mean_squared_error'][20:])\n",
    "plt.title('model MSE')\n",
    "plt.ylabel('MSE')\n",
    "plt.xlabel('image number')\n",
    "plt.legend(['train'], loc='upper left')\n",
    "plt.show()"
   ]
  },
  {
   "cell_type": "code",
   "execution_count": 63,
   "metadata": {},
   "outputs": [
    {
     "data": {
      "text/plain": [
       "<tf.Tensor: shape=(), dtype=float32, numpy=170.00104>"
      ]
     },
     "execution_count": 63,
     "metadata": {},
     "output_type": "execute_result"
    }
   ],
   "source": [
    "model3_train_mses[16369]"
   ]
  },
  {
   "cell_type": "code",
   "execution_count": 64,
   "metadata": {},
   "outputs": [
    {
     "data": {
      "text/plain": [
       "array([-133.92714,  146.42326], dtype=float32)"
      ]
     },
     "execution_count": 64,
     "metadata": {},
     "output_type": "execute_result"
    }
   ],
   "source": [
    "model3_train_predictions[1][16369]"
   ]
  },
  {
   "cell_type": "code",
   "execution_count": 65,
   "metadata": {},
   "outputs": [
    {
     "data": {
      "text/plain": [
       "array([-146.29346,  160.10085], dtype=float32)"
      ]
     },
     "execution_count": 65,
     "metadata": {},
     "output_type": "execute_result"
    }
   ],
   "source": [
    "model3_train_check_predictions[16369]"
   ]
  },
  {
   "cell_type": "code",
   "execution_count": 66,
   "metadata": {},
   "outputs": [
    {
     "data": {
      "text/plain": [
       "array([229.54109, 253.55153, 277.1634 , 268.40735, 217.60033, 244.73288,\n",
       "       218.73737, 253.83977, 258.8689 , 218.62125], dtype=float32)"
      ]
     },
     "execution_count": 66,
     "metadata": {},
     "output_type": "execute_result"
    }
   ],
   "source": [
    "model3_train_predictions[0][16369]"
   ]
  },
  {
   "cell_type": "code",
   "execution_count": 67,
   "metadata": {},
   "outputs": [
    {
     "data": {
      "text/plain": [
       "<tf.Tensor: shape=(10,), dtype=float32, numpy=\n",
       "array([2.0788822e-21, 5.5645513e-11, 9.9984252e-01, 1.5748192e-04,\n",
       "       1.3552561e-26, 8.2326453e-15, 4.2250435e-26, 7.4235312e-11,\n",
       "       1.1343147e-08, 3.7618472e-26], dtype=float32)>"
      ]
     },
     "execution_count": 67,
     "metadata": {},
     "output_type": "execute_result"
    }
   ],
   "source": [
    "tf.nn.softmax(model3_train_predictions[0][16369])"
   ]
  },
  {
   "cell_type": "code",
   "execution_count": 68,
   "metadata": {},
   "outputs": [
    {
     "data": {
      "image/png": "[encoded data removed]",
      "text/plain": [
       "<Figure size 432x288 with 1 Axes>"
      ]
     },
     "metadata": {
      "needs_background": "light"
     },
     "output_type": "display_data"
    }
   ],
   "source": [
    "plt.plot(tf.nn.softmax(model3_train_predictions[0][16369]))\n",
    "# plt.plot(train_stats.history['val_mean_squared_error'][20:])\n",
    "plt.show()"
   ]
  },
  {
   "cell_type": "code",
   "execution_count": 69,
   "metadata": {},
   "outputs": [
    {
     "data": {
      "text/plain": [
       "<tf.Tensor: shape=(), dtype=int64, numpy=2>"
      ]
     },
     "execution_count": 69,
     "metadata": {},
     "output_type": "execute_result"
    }
   ],
   "source": [
    "y_train[16369]"
   ]
  },
  {
   "cell_type": "code",
   "execution_count": 83,
   "metadata": {},
   "outputs": [
    {
     "data": {
      "text/plain": [
       "2"
      ]
     },
     "execution_count": 83,
     "metadata": {},
     "output_type": "execute_result"
    }
   ],
   "source": [
    "p = model3.predict(x_test[0:1])\n",
    "s = tf.nn.softmax(p[0])\n",
    "int(tf.math.argmax(s, axis=-1))"
   ]
  },
  {
   "cell_type": "code",
   "execution_count": 85,
   "metadata": {},
   "outputs": [
    {
     "data": {
      "text/plain": [
       "2"
      ]
     },
     "execution_count": 85,
     "metadata": {},
     "output_type": "execute_result"
    }
   ],
   "source": [
    "int(y_test[0])"
   ]
  },
  {
   "cell_type": "code",
   "execution_count": 93,
   "metadata": {},
   "outputs": [],
   "source": [
    "model3_test_predictions = model3.predict(x_test)"
   ]
  },
  {
   "cell_type": "code",
   "execution_count": 97,
   "metadata": {},
   "outputs": [
    {
     "data": {
      "text/plain": [
       "array([184.3096 , 196.1389 , 222.29498, 195.25058, 189.12245, 185.07591,\n",
       "       186.62585, 185.32466, 198.02336, 174.91527], dtype=float32)"
      ]
     },
     "execution_count": 97,
     "metadata": {},
     "output_type": "execute_result"
    }
   ],
   "source": [
    "model3_test_predictions[0][0]"
   ]
  },
  {
   "cell_type": "code",
   "execution_count": 99,
   "metadata": {},
   "outputs": [
    {
     "name": "stdout",
     "output_type": "stream",
     "text": [
      "[13, 30, 33, 152, 205, 216, 221, 328, 372, 392, 435, 454, 491, 505, 510, 588, 659, 713, 747, 871, 900, 901, 941, 1067, 1113, 1132, 1138, 1307, 1320, 1321, 1441, 1521, 1541, 1542, 1599, 1632, 1686, 1764, 1768, 1831, 1849, 1901, 1948, 2026, 2030, 2221, 2238, 2323, 2343, 2385, 2395, 2445, 2455, 2490, 2491, 2527, 2604, 2679, 2695, 2734, 2757, 2765, 2846, 2922, 2984, 2993, 2999, 3018, 3023, 3025, 3063, 3107, 3184, 3289, 3302, 3315, 3321, 3369, 3490, 3524, 3647, 3652, 3702, 3721, 3729, 3753, 3766, 3767, 3837, 3926, 3933, 3984, 3990, 4079, 4134, 4196, 4200, 4205, 4226, 4271, 4329, 4334, 4479, 4545, 4592, 4676, 4751, 4808, 4809, 4894, 5071, 5074, 5141, 5226, 5247, 5269, 5273, 5282, 5329, 5444, 5556, 5577, 5608, 5684, 5743, 5746, 5796, 5799, 5846, 5849, 5868, 5879, 5915, 5929, 5938, 6074, 6120, 6249, 6315, 6328, 6333, 6339, 6348, 6373, 6489, 6511, 6516, 6520, 6603, 6663, 6692, 6723, 6790, 6821, 6929, 6963, 7017, 7037, 7049, 7076, 7148, 7152, 7195, 7201, 7215, 7247, 7300, 7383, 7446, 7453, 7577, 7609, 7698, 7746, 7773, 7797, 7829, 7940, 7963, 7979, 8004, 8075, 8120, 8150, 8215, 8240, 8279, 8292, 8338, 8548, 8550, 8569, 8618, 8627, 8667, 8708, 8838, 8876, 8911, 8965, 8986, 8988, 8997, 9047, 9081, 9122, 9142, 9186, 9235, 9276, 9467, 9495, 9538, 9564, 9608, 9627, 9661, 9684, 9760, 9789, 9793, 9898, 9932, 9944, 9954]\n"
     ]
    }
   ],
   "source": [
    "incorrect_array = []\n",
    "\n",
    "for i in range(0, 10000):\n",
    "    p = model3_test_predictions[0][i]\n",
    "    s = tf.nn.softmax(p)\n",
    "    tmp_int = int(tf.math.argmax(s, axis=-1))\n",
    "    if int(y_test[i]) != tmp_int:\n",
    "        incorrect_array.append(i)\n",
    "\n",
    "print(incorrect_array)"
   ]
  },
  {
   "cell_type": "code",
   "execution_count": 102,
   "metadata": {},
   "outputs": [
    {
     "name": "stdout",
     "output_type": "stream",
     "text": [
      "313/313 [==============================] - 0s 885us/step - loss: 9.7954 - mean_squared_error: 9.7980 - mean_absolute_error: 2.3603 - accuracy: 0.0000e+00\n"
     ]
    },
    {
     "data": {
      "text/plain": [
       "[9.795434951782227, 9.798005104064941, 2.3602688312530518, 0.0]"
      ]
     },
     "execution_count": 102,
     "metadata": {},
     "output_type": "execute_result"
    }
   ],
   "source": [
    "model3_check.evaluate(x_test, model3_test_predictions[1])"
   ]
  },
  {
   "cell_type": "code",
   "execution_count": 128,
   "metadata": {},
   "outputs": [
    {
     "data": {
      "text/plain": [
       "array([[-85.21603, 109.64496]], dtype=float32)"
      ]
     },
     "execution_count": 128,
     "metadata": {},
     "output_type": "execute_result"
    }
   ],
   "source": [
    "model3_check.predict(x_test[13:14])"
   ]
  },
  {
   "cell_type": "code",
   "execution_count": 129,
   "metadata": {},
   "outputs": [
    {
     "data": {
      "text/plain": [
       "array([-84.05022, 105.67674], dtype=float32)"
      ]
     },
     "execution_count": 129,
     "metadata": {},
     "output_type": "execute_result"
    }
   ],
   "source": [
    "model3_test_predictions[1][13]"
   ]
  },
  {
   "cell_type": "code",
   "execution_count": 106,
   "metadata": {},
   "outputs": [
    {
     "data": {
      "text/plain": [
       "array([[-145.68459 ,  126.530876]], dtype=float32)"
      ]
     },
     "execution_count": 106,
     "metadata": {},
     "output_type": "execute_result"
    }
   ],
   "source": [
    "model3_check.predict(x_test[400:401])"
   ]
  },
  {
   "cell_type": "code",
   "execution_count": 107,
   "metadata": {},
   "outputs": [
    {
     "data": {
      "text/plain": [
       "array([-145.31837,  124.87227], dtype=float32)"
      ]
     },
     "execution_count": 107,
     "metadata": {},
     "output_type": "execute_result"
    }
   ],
   "source": [
    "model3_test_predictions[1][400]"
   ]
  },
  {
   "cell_type": "code",
   "execution_count": 108,
   "metadata": {},
   "outputs": [
    {
     "data": {
      "text/plain": [
       "<tf.Tensor: shape=(1,), dtype=float32, numpy=array([2.4372942], dtype=float32)>"
      ]
     },
     "execution_count": 108,
     "metadata": {},
     "output_type": "execute_result"
    }
   ],
   "source": [
    "tf.keras.losses.MSE(model3_test_predictions[1][0], model3_check.predict(x_test[0:1]))"
   ]
  },
  {
   "cell_type": "code",
   "execution_count": 109,
   "metadata": {},
   "outputs": [],
   "source": [
    "model3_test_check_predictions = model3_check.predict(x_test)"
   ]
  },
  {
   "cell_type": "code",
   "execution_count": 110,
   "metadata": {},
   "outputs": [],
   "source": [
    "model3_test_mses = tf.keras.losses.MSE(model3_test_predictions[1], model3_test_check_predictions)"
   ]
  },
  {
   "cell_type": "code",
   "execution_count": 113,
   "metadata": {},
   "outputs": [
    {
     "data": {
      "image/png": "[encoded data removed]",
      "text/plain": [
       "<Figure size 432x288 with 1 Axes>"
      ]
     },
     "metadata": {
      "needs_background": "light"
     },
     "output_type": "display_data"
    }
   ],
   "source": [
    "plt.plot(model3_test_mses)\n",
    "# plt.plot(train_stats.history['val_mean_squared_error'][20:])\n",
    "plt.title('model MSE')\n",
    "plt.ylabel('MSE')\n",
    "plt.xlabel('image number')\n",
    "plt.legend(['train'], loc='upper left')\n",
    "plt.show()"
   ]
  },
  {
   "cell_type": "code",
   "execution_count": 145,
   "metadata": {},
   "outputs": [
    {
     "data": {
      "text/plain": [
       "9.795434"
      ]
     },
     "execution_count": 145,
     "metadata": {},
     "output_type": "execute_result"
    }
   ],
   "source": [
    "np.mean(model3_test_mses)"
   ]
  },
  {
   "cell_type": "code",
   "execution_count": 146,
   "metadata": {},
   "outputs": [
    {
     "data": {
      "text/plain": [
       "4.8640065"
      ]
     },
     "execution_count": 146,
     "metadata": {},
     "output_type": "execute_result"
    }
   ],
   "source": [
    "np.median(model3_test_mses)"
   ]
  },
  {
   "cell_type": "code",
   "execution_count": 152,
   "metadata": {},
   "outputs": [
    {
     "data": {
      "text/plain": [
       "DescribeResult(nobs=10000, minmax=(0.0015028712, 329.40527), mean=9.795434, variance=222.05933, skewness=5.0224385261535645, kurtosis=50.120233302070524)"
      ]
     },
     "execution_count": 152,
     "metadata": {},
     "output_type": "execute_result"
    }
   ],
   "source": [
    "scipy.stats.describe(model3_test_mses)"
   ]
  },
  {
   "cell_type": "code",
   "execution_count": 114,
   "metadata": {},
   "outputs": [
    {
     "data": {
      "text/plain": [
       "<tf.Tensor: shape=(), dtype=int64, numpy=4751>"
      ]
     },
     "execution_count": 114,
     "metadata": {},
     "output_type": "execute_result"
    }
   ],
   "source": [
    "tf.math.argmax(model3_test_mses, axis=-1)"
   ]
  },
  {
   "cell_type": "code",
   "execution_count": 116,
   "metadata": {},
   "outputs": [
    {
     "data": {
      "text/plain": [
       "<tf.Tensor: shape=(), dtype=float32, numpy=329.40527>"
      ]
     },
     "execution_count": 116,
     "metadata": {},
     "output_type": "execute_result"
    }
   ],
   "source": [
    "model3_test_mses[4751]"
   ]
  },
  {
   "cell_type": "code",
   "execution_count": 137,
   "metadata": {},
   "outputs": [],
   "source": [
    "highest_mses = tf.math.greater(model3_test_mses, 25)\n",
    "highest_mses_indexes = []\n",
    "for i in range(0,int(highest_mses.shape[-1])):\n",
    "    if highest_mses[i]:\n",
    "        highest_mses_indexes.append(i)"
   ]
  },
  {
   "cell_type": "code",
   "execution_count": 138,
   "metadata": {},
   "outputs": [
    {
     "data": {
      "text/plain": [
       "{221,\n",
       " 392,\n",
       " 435,\n",
       " 454,\n",
       " 491,\n",
       " 505,\n",
       " 747,\n",
       " 871,\n",
       " 901,\n",
       " 1113,\n",
       " 1320,\n",
       " 1764,\n",
       " 1849,\n",
       " 2026,\n",
       " 2238,\n",
       " 2455,\n",
       " 2490,\n",
       " 2922,\n",
       " 2984,\n",
       " 3302,\n",
       " 3321,\n",
       " 3837,\n",
       " 3984,\n",
       " 4079,\n",
       " 4329,\n",
       " 4592,\n",
       " 4676,\n",
       " 4751,\n",
       " 4809,\n",
       " 5074,\n",
       " 5226,\n",
       " 5796,\n",
       " 5915,\n",
       " 5929,\n",
       " 6348,\n",
       " 6663,\n",
       " 6790,\n",
       " 6929,\n",
       " 7049,\n",
       " 7247,\n",
       " 7698,\n",
       " 8338,\n",
       " 8550,\n",
       " 8569,\n",
       " 8667,\n",
       " 8876,\n",
       " 9495,\n",
       " 9608,\n",
       " 9627,\n",
       " 9944}"
      ]
     },
     "execution_count": 138,
     "metadata": {},
     "output_type": "execute_result"
    }
   ],
   "source": [
    "set(highest_mses_indexes).intersection(set(incorrect_array))"
   ]
  },
  {
   "cell_type": "markdown",
   "metadata": {},
   "source": [
    "### Model 4:\n",
    "\n",
    "Similar to model 3, but use a reduced size derivative of the original inputs for the check function"
   ]
  },
  {
   "cell_type": "code",
   "execution_count": 154,
   "metadata": {},
   "outputs": [],
   "source": [
    "x_train_check_sum = np.zeros((60000,28,1), dtype=np.float32)\n",
    "x_test_check_sum = np.zeros((10000,28,1), dtype=np.float32)"
   ]
  },
  {
   "cell_type": "code",
   "execution_count": 155,
   "metadata": {},
   "outputs": [],
   "source": [
    "# x_train_numpy = x_train.numpy()"
   ]
  },
  {
   "cell_type": "code",
   "execution_count": 156,
   "metadata": {},
   "outputs": [],
   "source": [
    "for i in range(0,60000):\n",
    "    x_train_check_sum[i] = sum(x_train[i])"
   ]
  },
  {
   "cell_type": "code",
   "execution_count": 157,
   "metadata": {},
   "outputs": [],
   "source": [
    "for i in range(0,10000):\n",
    "    x_test_check_sum[i] = sum(x_test[i])"
   ]
  },
  {
   "cell_type": "code",
   "execution_count": 159,
   "metadata": {},
   "outputs": [
    {
     "data": {
      "text/plain": [
       "(60000, 28, 1)"
      ]
     },
     "execution_count": 159,
     "metadata": {},
     "output_type": "execute_result"
    }
   ],
   "source": [
    "x_train_check_sum.shape"
   ]
  },
  {
   "cell_type": "code",
   "execution_count": 160,
   "metadata": {},
   "outputs": [
    {
     "data": {
      "text/plain": [
       "TensorShape([28, 1])"
      ]
     },
     "execution_count": 160,
     "metadata": {},
     "output_type": "execute_result"
    }
   ],
   "source": [
    "sum(x_train[0]).shape"
   ]
  },
  {
   "cell_type": "code",
   "execution_count": 161,
   "metadata": {},
   "outputs": [],
   "source": [
    "model4_check = tf.keras.models.Sequential([\n",
    "                   tf.keras.layers.Flatten(input_shape=(28,1)),\n",
    "                   tf.keras.layers.Dense(64,activation='relu'),\n",
    "                   tf.keras.layers.Dense(2)\n",
    "               ])\n",
    "model4_check.compile(\n",
    "    optimizer=tf.keras.optimizers.Adam(0.001),\n",
    "    loss=tf.keras.losses.MeanSquaredError(),\n",
    "    metrics=[tf.keras.losses.MeanSquaredError(),tf.keras.metrics.MeanAbsoluteError(), tf.keras.metrics.Accuracy()],\n",
    ")\n",
    "\n",
    "train_stats = model4_check.fit(\n",
    "                x = x_train_check_sum,\n",
    "                y = model3_train_predictions[1],\n",
    "                shuffle=True,\n",
    "                epochs=100,\n",
    "                batch_size=128,\n",
    "                validation_data=(x_test_check_sum, model3_test_predictions[1]),\n",
    "                verbose=0\n",
    "              )"
   ]
  },
  {
   "cell_type": "code",
   "execution_count": null,
   "metadata": {},
   "outputs": [],
   "source": []
  },
  {
   "cell_type": "code",
   "execution_count": 163,
   "metadata": {},
   "outputs": [
    {
     "data": {
      "image/png": "[encoded data removed]",
      "text/plain": [
       "<Figure size 432x288 with 1 Axes>"
      ]
     },
     "metadata": {
      "needs_background": "light"
     },
     "output_type": "display_data"
    }
   ],
   "source": [
    "plt.plot(train_stats.history['mean_squared_error'][20:])\n",
    "plt.plot(train_stats.history['val_mean_squared_error'][20:])\n",
    "plt.title('model MSE')\n",
    "plt.ylabel('MSE')\n",
    "plt.xlabel('epoch')\n",
    "plt.legend(['train', 'test'], loc='upper left')\n",
    "plt.show()"
   ]
  },
  {
   "cell_type": "code",
   "execution_count": 168,
   "metadata": {},
   "outputs": [
    {
     "data": {
      "image/png": "[encoded data removed]",
      "text/plain": [
       "<Figure size 432x288 with 1 Axes>"
      ]
     },
     "metadata": {
      "needs_background": "light"
     },
     "output_type": "display_data"
    }
   ],
   "source": [
    "plt.plot(train_stats.history['mean_absolute_error'][20:])\n",
    "plt.plot(train_stats.history['val_mean_absolute_error'][20:])\n",
    "plt.title('model MAE')\n",
    "plt.ylabel('MAE')\n",
    "plt.xlabel('epoch')\n",
    "plt.legend(['train', 'test'], loc='upper left')\n",
    "plt.show()"
   ]
  },
  {
   "cell_type": "code",
   "execution_count": 164,
   "metadata": {},
   "outputs": [
    {
     "data": {
      "image/png": "[encoded data removed]",
      "text/plain": [
       "<Figure size 432x288 with 1 Axes>"
      ]
     },
     "metadata": {
      "needs_background": "light"
     },
     "output_type": "display_data"
    }
   ],
   "source": [
    "plt.plot(train_stats.history['loss'][20:])\n",
    "plt.plot(train_stats.history['val_loss'][20:])\n",
    "plt.title('model loss')\n",
    "plt.ylabel('loss')\n",
    "plt.xlabel('epoch')\n",
    "plt.legend(['train', 'test'], loc='upper left')\n",
    "plt.show()"
   ]
  },
  {
   "cell_type": "code",
   "execution_count": 167,
   "metadata": {},
   "outputs": [
    {
     "name": "stdout",
     "output_type": "stream",
     "text": [
      "1875/1875 [==============================] - 2s 910us/step - loss: 317.5333 - mean_squared_error: 317.5333 - mean_absolute_error: 13.6741 - accuracy: 0.0000e+00\n"
     ]
    },
    {
     "data": {
      "text/plain": [
       "[317.5333251953125, 317.5333251953125, 13.674067497253418, 0.0]"
      ]
     },
     "execution_count": 167,
     "metadata": {},
     "output_type": "execute_result"
    }
   ],
   "source": [
    "model4_check.evaluate(x_train_check_sum, model3_train_predictions[1])"
   ]
  },
  {
   "cell_type": "markdown",
   "metadata": {},
   "source": [
    "#### Review of model 4\n",
    "\n",
    "A lot worse them model 3"
   ]
  },
  {
   "cell_type": "markdown",
   "metadata": {},
   "source": [
    "### Model 5\n",
    "\n",
    "In this model, we will use a similar check model to model 3, but the main model will be more complex"
   ]
  },
  {
   "cell_type": "code",
   "execution_count": 267,
   "metadata": {},
   "outputs": [],
   "source": [
    "# Define model layers.\n",
    "input_layer = tf.keras.layers.Input(shape=(28,28,1))\n",
    "conv2d_layer_1 = tf.keras.layers.Conv2D(32, (3, 3), activation='relu', kernel_initializer='he_uniform')(input_layer)\n",
    "maxpool_layer_1 = tf.keras.layers.MaxPooling2D((2, 2))(conv2d_layer_1)\n",
    "flatten_layer = tf.keras.layers.Flatten()(maxpool_layer_1)\n",
    "dense_layer_1 = tf.keras.layers.Dense(units='128', activation='relu', kernel_initializer='he_uniform')(flatten_layer)\n",
    "\n",
    "# Y1 output will be fed from the first dense\n",
    "# y1_output = Dense(units='1', name='price_output')(first_dense)\n",
    "categorical_output_1 = tf.keras.layers.Dense(units='10', \n",
    "                                           name='category_output',\n",
    "                                           activation='softmax')(dense_layer_1)\n",
    "\n",
    "# second_dense = Dense(units='128',activation='relu')(first_dense)\n",
    "# Y2 output will be fed from the second dense\n",
    "check_output_1 = tf.keras.layers.Dense(units='2',\n",
    "#                                      kernel_initializer='ones',\n",
    "#                                      bias_initializer='zeros',\n",
    "                                     name='check_output')(categorical_output_1)\n",
    "\n",
    "# Define the model with the input layer \n",
    "# and a list of output layers\n",
    "model5 = tf.keras.Model(inputs=input_layer,outputs=[categorical_output_1, check_output_1])"
   ]
  },
  {
   "cell_type": "code",
   "execution_count": 268,
   "metadata": {},
   "outputs": [],
   "source": [
    "# Specify the optimizer, and compile the model with loss functions for both outputs\n",
    "\n",
    "# optimizer=tf.keras.optimizers.Adam(0.001),\n",
    "# loss=tf.keras.losses.SparseCategoricalCrossentropy(from_logits=True),\n",
    "# metrics=[tf.keras.metrics.SparseCategoricalAccuracy()],\n",
    "\n",
    "model5.compile(optimizer = tf.keras.optimizers.Adam(0.001),\n",
    "              loss={'category_output': tf.keras.losses.SparseCategoricalCrossentropy(from_logits=True)},\n",
    "              metrics={'category_output':tf.keras.metrics.SparseCategoricalAccuracy()}\n",
    "             )"
   ]
  },
  {
   "cell_type": "code",
   "execution_count": 269,
   "metadata": {},
   "outputs": [
    {
     "name": "stdout",
     "output_type": "stream",
     "text": [
      "Epoch 1/10\n",
      "WARNING:tensorflow:Gradients do not exist for variables ['check_output/kernel:0', 'check_output/bias:0'] when minimizing the loss.\n"
     ]
    },
    {
     "name": "stderr",
     "output_type": "stream",
     "text": [
      "WARNING:tensorflow:Gradients do not exist for variables ['check_output/kernel:0', 'check_output/bias:0'] when minimizing the loss.\n"
     ]
    },
    {
     "name": "stdout",
     "output_type": "stream",
     "text": [
      "WARNING:tensorflow:Gradients do not exist for variables ['check_output/kernel:0', 'check_output/bias:0'] when minimizing the loss.\n"
     ]
    },
    {
     "name": "stderr",
     "output_type": "stream",
     "text": [
      "WARNING:tensorflow:Gradients do not exist for variables ['check_output/kernel:0', 'check_output/bias:0'] when minimizing the loss.\n"
     ]
    },
    {
     "name": "stdout",
     "output_type": "stream",
     "text": [
      "WARNING:tensorflow:Gradients do not exist for variables ['check_output/kernel:0', 'check_output/bias:0'] when minimizing the loss.\n"
     ]
    },
    {
     "name": "stderr",
     "output_type": "stream",
     "text": [
      "WARNING:tensorflow:Gradients do not exist for variables ['check_output/kernel:0', 'check_output/bias:0'] when minimizing the loss.\n"
     ]
    },
    {
     "name": "stdout",
     "output_type": "stream",
     "text": [
      "WARNING:tensorflow:Gradients do not exist for variables ['check_output/kernel:0', 'check_output/bias:0'] when minimizing the loss.\n"
     ]
    },
    {
     "name": "stderr",
     "output_type": "stream",
     "text": [
      "WARNING:tensorflow:Gradients do not exist for variables ['check_output/kernel:0', 'check_output/bias:0'] when minimizing the loss.\n"
     ]
    },
    {
     "name": "stdout",
     "output_type": "stream",
     "text": [
      "469/469 [==============================] - 12s 25ms/step - loss: 1.5425 - category_output_loss: 1.5425 - category_output_sparse_categorical_accuracy: 0.9243 - val_loss: 1.4990 - val_category_output_loss: 1.4990 - val_category_output_sparse_categorical_accuracy: 0.9645\n",
      "Epoch 2/10\n",
      "469/469 [==============================] - 12s 25ms/step - loss: 1.4906 - category_output_loss: 1.4906 - category_output_sparse_categorical_accuracy: 0.9731 - val_loss: 1.4874 - val_category_output_loss: 1.4874 - val_category_output_sparse_categorical_accuracy: 0.9758\n",
      "Epoch 3/10\n",
      "469/469 [==============================] - 11s 24ms/step - loss: 1.4811 - category_output_loss: 1.4811 - category_output_sparse_categorical_accuracy: 0.9818 - val_loss: 1.4785 - val_category_output_loss: 1.4785 - val_category_output_sparse_categorical_accuracy: 0.9850\n",
      "Epoch 4/10\n",
      "469/469 [==============================] - 12s 25ms/step - loss: 1.4762 - category_output_loss: 1.4762 - category_output_sparse_categorical_accuracy: 0.9867 - val_loss: 1.4782 - val_category_output_loss: 1.4782 - val_category_output_sparse_categorical_accuracy: 0.9846\n",
      "Epoch 5/10\n",
      "469/469 [==============================] - 12s 25ms/step - loss: 1.4736 - category_output_loss: 1.4736 - category_output_sparse_categorical_accuracy: 0.9889 - val_loss: 1.4784 - val_category_output_loss: 1.4784 - val_category_output_sparse_categorical_accuracy: 0.9838\n",
      "Epoch 6/10\n",
      "469/469 [==============================] - 12s 25ms/step - loss: 1.4716 - category_output_loss: 1.4716 - category_output_sparse_categorical_accuracy: 0.9906 - val_loss: 1.4764 - val_category_output_loss: 1.4764 - val_category_output_sparse_categorical_accuracy: 0.9860\n",
      "Epoch 7/10\n",
      "469/469 [==============================] - 12s 25ms/step - loss: 1.4700 - category_output_loss: 1.4700 - category_output_sparse_categorical_accuracy: 0.9920 - val_loss: 1.4768 - val_category_output_loss: 1.4768 - val_category_output_sparse_categorical_accuracy: 0.9848\n",
      "Epoch 8/10\n",
      "469/469 [==============================] - 12s 25ms/step - loss: 1.4682 - category_output_loss: 1.4682 - category_output_sparse_categorical_accuracy: 0.9939 - val_loss: 1.4753 - val_category_output_loss: 1.4753 - val_category_output_sparse_categorical_accuracy: 0.9866\n",
      "Epoch 9/10\n",
      "469/469 [==============================] - 12s 25ms/step - loss: 1.4676 - category_output_loss: 1.4676 - category_output_sparse_categorical_accuracy: 0.9943 - val_loss: 1.4774 - val_category_output_loss: 1.4774 - val_category_output_sparse_categorical_accuracy: 0.9843\n",
      "Epoch 10/10\n",
      "469/469 [==============================] - 12s 25ms/step - loss: 1.4672 - category_output_loss: 1.4672 - category_output_sparse_categorical_accuracy: 0.9945 - val_loss: 1.4758 - val_category_output_loss: 1.4758 - val_category_output_sparse_categorical_accuracy: 0.9859\n"
     ]
    }
   ],
   "source": [
    "# Train the model for 100 epochs\n",
    "history = model5.fit(x = x_train,\n",
    "                     y = {'category_output': y_train},\n",
    "                     shuffle=True,\n",
    "                     epochs=10, batch_size=128, \n",
    "                     validation_data=(x_test, y_test))"
   ]
  },
  {
   "cell_type": "code",
   "execution_count": 270,
   "metadata": {},
   "outputs": [],
   "source": [
    "model5_train_predictions = model5.predict(x_train)\n",
    "model5_test_predictions = model5.predict(x_test)"
   ]
  },
  {
   "cell_type": "code",
   "execution_count": 271,
   "metadata": {},
   "outputs": [
    {
     "data": {
      "text/plain": [
       "array([9.6485198e-21, 8.5245886e-17, 1.0000000e+00, 1.6827537e-15,\n",
       "       1.0500188e-17, 1.3637083e-22, 1.3638192e-27, 1.9219506e-20,\n",
       "       1.4275667e-13, 4.6405742e-18], dtype=float32)"
      ]
     },
     "execution_count": 271,
     "metadata": {},
     "output_type": "execute_result"
    }
   ],
   "source": [
    "model5_test_predictions[0][0]"
   ]
  },
  {
   "cell_type": "code",
   "execution_count": 272,
   "metadata": {},
   "outputs": [
    {
     "name": "stdout",
     "output_type": "stream",
     "text": [
      "1875/1875 [==============================] - 6s 3ms/step - loss: 1.4660 - category_output_loss: 1.4660 - category_output_sparse_categorical_accuracy: 0.9958\n"
     ]
    },
    {
     "data": {
      "text/plain": [
       "[1.4659879207611084, 1.4659879207611084, 0.9958333373069763]"
      ]
     },
     "execution_count": 272,
     "metadata": {},
     "output_type": "execute_result"
    }
   ],
   "source": [
    "model5.evaluate(x_train, y_train)"
   ]
  },
  {
   "cell_type": "code",
   "execution_count": 273,
   "metadata": {},
   "outputs": [
    {
     "name": "stdout",
     "output_type": "stream",
     "text": [
      "313/313 [==============================] - 1s 3ms/step - loss: 1.4758 - category_output_loss: 1.4758 - category_output_sparse_categorical_accuracy: 0.9859\n"
     ]
    },
    {
     "data": {
      "text/plain": [
       "[1.4757825136184692, 1.4757825136184692, 0.9858999848365784]"
      ]
     },
     "execution_count": 273,
     "metadata": {},
     "output_type": "execute_result"
    }
   ],
   "source": [
    "model5.evaluate(x_test, y_test)"
   ]
  },
  {
   "cell_type": "code",
   "execution_count": 274,
   "metadata": {},
   "outputs": [],
   "source": [
    "model5_check = tf.keras.models.Sequential([\n",
    "                   tf.keras.layers.Flatten(input_shape=(28,28)),\n",
    "                   tf.keras.layers.Dense(64,activation='relu'),\n",
    "                   tf.keras.layers.Dense(2)\n",
    "               ])\n",
    "model5_check.compile(\n",
    "    optimizer=tf.keras.optimizers.Adam(0.001),\n",
    "    loss=tf.keras.losses.MeanSquaredError(),\n",
    "    metrics=[tf.keras.losses.MeanSquaredError(),tf.keras.metrics.MeanAbsoluteError(), tf.keras.metrics.Accuracy()],\n",
    ")\n",
    "\n",
    "train_stats = model5_check.fit(\n",
    "                x = x_train,\n",
    "                y = model5_train_predictions[1],\n",
    "                shuffle=True,\n",
    "                epochs=100,\n",
    "                batch_size=128,\n",
    "                validation_data=(x_test, model5_test_predictions[1]),\n",
    "                verbose=0\n",
    "              )"
   ]
  },
  {
   "cell_type": "code",
   "execution_count": null,
   "metadata": {},
   "outputs": [],
   "source": []
  },
  {
   "cell_type": "code",
   "execution_count": 275,
   "metadata": {},
   "outputs": [
    {
     "data": {
      "image/png": "[encoded data removed]",
      "text/plain": [
       "<Figure size 432x288 with 1 Axes>"
      ]
     },
     "metadata": {
      "needs_background": "light"
     },
     "output_type": "display_data"
    }
   ],
   "source": [
    "plt.plot(train_stats.history['mean_squared_error'][:])\n",
    "plt.plot(train_stats.history['val_mean_squared_error'][:])\n",
    "plt.title('model MSE')\n",
    "plt.ylabel('MSE')\n",
    "plt.xlabel('epoch')\n",
    "plt.legend(['train', 'test'], loc='upper left')\n",
    "plt.show()"
   ]
  },
  {
   "cell_type": "code",
   "execution_count": 276,
   "metadata": {},
   "outputs": [
    {
     "data": {
      "image/png": "[encoded data removed]",
      "text/plain": [
       "<Figure size 432x288 with 1 Axes>"
      ]
     },
     "metadata": {
      "needs_background": "light"
     },
     "output_type": "display_data"
    }
   ],
   "source": [
    "plt.plot(train_stats.history['mean_absolute_error'][:])\n",
    "plt.plot(train_stats.history['val_mean_absolute_error'][:])\n",
    "plt.title('model MAE')\n",
    "plt.ylabel('MAE')\n",
    "plt.xlabel('epoch')\n",
    "plt.legend(['train', 'test'], loc='upper left')\n",
    "plt.show()"
   ]
  },
  {
   "cell_type": "code",
   "execution_count": 277,
   "metadata": {},
   "outputs": [
    {
     "data": {
      "image/png": "[encoded data removed]",
      "text/plain": [
       "<Figure size 432x288 with 1 Axes>"
      ]
     },
     "metadata": {
      "needs_background": "light"
     },
     "output_type": "display_data"
    }
   ],
   "source": [
    "plt.plot(train_stats.history['loss'][:])\n",
    "plt.plot(train_stats.history['val_loss'][:])\n",
    "plt.title('model loss')\n",
    "plt.ylabel('loss')\n",
    "plt.xlabel('epoch')\n",
    "plt.legend(['train', 'test'], loc='upper left')\n",
    "plt.show()"
   ]
  },
  {
   "cell_type": "code",
   "execution_count": 278,
   "metadata": {},
   "outputs": [
    {
     "name": "stdout",
     "output_type": "stream",
     "text": [
      "1875/1875 [==============================] - 2s 1ms/step - loss: 0.0058 - mean_squared_error: 0.0058 - mean_absolute_error: 0.0538 - accuracy: 0.0000e+00\n"
     ]
    },
    {
     "data": {
      "text/plain": [
       "[0.00578839099034667, 0.00578839099034667, 0.053779471665620804, 0.0]"
      ]
     },
     "execution_count": 278,
     "metadata": {},
     "output_type": "execute_result"
    }
   ],
   "source": [
    "model5_check.evaluate(x_train, model5_train_predictions[1])"
   ]
  },
  {
   "cell_type": "code",
   "execution_count": 279,
   "metadata": {},
   "outputs": [],
   "source": [
    "model5_check_train_predictions = model5_check.predict(x_train)"
   ]
  },
  {
   "cell_type": "code",
   "execution_count": 290,
   "metadata": {},
   "outputs": [
    {
     "data": {
      "text/plain": [
       "array([0.6609125, 0.3420861], dtype=float32)"
      ]
     },
     "execution_count": 290,
     "metadata": {},
     "output_type": "execute_result"
    }
   ],
   "source": [
    "model5_check_train_predictions[10]"
   ]
  },
  {
   "cell_type": "code",
   "execution_count": 291,
   "metadata": {},
   "outputs": [
    {
     "data": {
      "text/plain": [
       "array([0.6353578 , 0.35095686], dtype=float32)"
      ]
     },
     "execution_count": 291,
     "metadata": {},
     "output_type": "execute_result"
    }
   ],
   "source": [
    "model5_train_predictions[1][10]"
   ]
  },
  {
   "cell_type": "code",
   "execution_count": 286,
   "metadata": {},
   "outputs": [
    {
     "data": {
      "image/png": "[encoded data removed]",
      "text/plain": [
       "<Figure size 432x288 with 1 Axes>"
      ]
     },
     "metadata": {
      "needs_background": "light"
     },
     "output_type": "display_data"
    }
   ],
   "source": [
    "plt.plot(model5_train_predictions[1][0:100,0])\n",
    "plt.plot(model5_check_train_predictions[0:100,0])\n",
    "# plt.title('model MSE')\n",
    "# plt.ylabel('MSE')\n",
    "# plt.xlabel('epoch')\n",
    "# plt.legend(['train', 'test'], loc='upper left')\n",
    "plt.show()"
   ]
  },
  {
   "cell_type": "code",
   "execution_count": 288,
   "metadata": {},
   "outputs": [],
   "source": [
    "model5_check_test_predictions = model5_check.predict(x_test)"
   ]
  },
  {
   "cell_type": "code",
   "execution_count": 289,
   "metadata": {},
   "outputs": [
    {
     "data": {
      "image/png": "[encoded data removed]",
      "text/plain": [
       "<Figure size 432x288 with 1 Axes>"
      ]
     },
     "metadata": {
      "needs_background": "light"
     },
     "output_type": "display_data"
    }
   ],
   "source": [
    "plt.plot(model5_test_predictions[1][0:100,0])\n",
    "plt.plot(model5_check_test_predictions[0:100,0])\n",
    "# plt.title('model MSE')\n",
    "# plt.ylabel('MSE')\n",
    "# plt.xlabel('epoch')\n",
    "# plt.legend(['train', 'test'], loc='upper left')\n",
    "plt.show()"
   ]
  },
  {
   "cell_type": "code",
   "execution_count": null,
   "metadata": {},
   "outputs": [],
   "source": []
  }
 ],
 "metadata": {
  "colab": {
   "collapsed_sections": [],
   "name": "tensorflow/datasets",
   "private_outputs": true,
   "provenance": [],
   "toc_visible": true
  },
  "kernelspec": {
   "display_name": "Python 3",
   "language": "python",
   "name": "python3"
  },
  "language_info": {
   "codemirror_mode": {
    "name": "ipython",
    "version": 3
   },
   "file_extension": ".py",
   "mimetype": "text/x-python",
   "name": "python",
   "nbconvert_exporter": "python",
   "pygments_lexer": "ipython3",
   "version": "3.6.9"
  }
 },
 "nbformat": 4,
 "nbformat_minor": 4
}
