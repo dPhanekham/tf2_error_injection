{
 "cells": [
  {
   "cell_type": "markdown",
   "id": "fatal-myanmar",
   "metadata": {},
   "source": [
    "Use dropout to activate different neurons\n",
    "\n",
    "If faulty neuron is dropped, fault has no effect.\n",
    "- this could be useful in training and inference\n",
    "\n",
    "TODO\n",
    "- try training 2 models.\n",
    "  - 1 with injected faults but no dropout\n",
    "  - 1 with injected faults with dropout at injection layer\n",
    "\n",
    "- see effect of data volume on faults\n",
    "  - try training same model with same number of faults several times.\n",
    "  - each time use a different number of epochs\n",
    "  - train 10 times for each number of epochs\n",
    "  \n",
    "  - each time use same number of epochs but different number of samples\n",
    "  - train 10 times for each number of samples\n",
    "\n",
    "  "
   ]
  },
  {
   "cell_type": "code",
   "execution_count": null,
   "id": "limiting-essay",
   "metadata": {},
   "outputs": [],
   "source": []
  }
 ],
 "metadata": {
  "kernelspec": {
   "display_name": "Python 3",
   "language": "python",
   "name": "python3"
  },
  "language_info": {
   "codemirror_mode": {
    "name": "ipython",
    "version": 3
   },
   "file_extension": ".py",
   "mimetype": "text/x-python",
   "name": "python",
   "nbconvert_exporter": "python",
   "pygments_lexer": "ipython3",
   "version": "3.8.10"
  }
 },
 "nbformat": 4,
 "nbformat_minor": 5
}
